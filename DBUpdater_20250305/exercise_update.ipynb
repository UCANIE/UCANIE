{
 "cells": [
  {
   "cell_type": "code",
   "outputs": [],
   "source": [
    "#pip install supabase"
   ],
   "metadata": {
    "collapsed": false
   },
   "id": "102a80eb04e436d6"
  },
  {
   "cell_type": "code",
   "outputs": [],
   "source": [
    "#pip install pandas"
   ],
   "metadata": {
    "collapsed": false
   },
   "id": "f9e119cba171e168"
  },
  {
   "cell_type": "code",
   "outputs": [],
   "source": [
    "#pip install python-dotenv"
   ],
   "metadata": {
    "collapsed": false
   },
   "id": "1a991b304ff494cf"
  },
  {
   "cell_type": "markdown",
   "source": [
    "1. Supabase 셋업"
   ],
   "metadata": {
    "collapsed": false
   },
   "id": "b01b7616cf74d14a"
  },
  {
   "cell_type": "code",
   "outputs": [],
   "source": [
    "import os\n",
    "import dotenv\n",
    "import pandas as pd\n",
    "from supabase import create_client, Client\n",
    "\n",
    "dotenv_file = dotenv.find_dotenv()\n",
    "dotenv.load_dotenv(dotenv_file)\n",
    "\n",
    "url: str = os.environ[\"SUPABASE_URL\"]\n",
    "key: str = os.environ[\"SUPABASE_KEY\"]\n",
    "supabase: Client = create_client(url, key)"
   ],
   "metadata": {
    "collapsed": false,
    "ExecuteTime": {
     "end_time": "2024-08-13T01:53:42.624478Z",
     "start_time": "2024-08-13T01:53:40.239488Z"
    }
   },
   "id": "1cdd6ed28b47a533",
   "execution_count": 1
  },
  {
   "cell_type": "markdown",
   "source": [
    "2. 파일명과 테이블명 입력 및 데이터프레임 셋업"
   ],
   "metadata": {
    "collapsed": false
   },
   "id": "3152e4462ee0e364"
  },
  {
   "cell_type": "code",
   "outputs": [
    {
     "name": "stdout",
     "output_type": "stream",
     "text": [
      "(99, 9)\n",
      "(100, 9)\n"
     ]
    },
    {
     "data": {
      "text/plain": "    id            Name   Level MainGoal DetailGoal  \\\n0  999          테스트 루틴    Easy     다이어트     탄탄한 상체   \n1   86   강력한 코어 만들기 중급  Normal     체력향상      코어 강화   \n2   10       복근 만들기 초급    Easy     근력강화     선명한 복근   \n3   59  상체근력 및 체력강화 중급  Normal     체력향상   균형 잡힌 라인   \n4   65    힙업과 군살 제거 중급  Normal     체력향상   균형 잡힌 라인   \n\n                                              ExList  \\\n0                                  [1, 302, 25, 303]   \n1  [901, 929, 930, 904, 302, 304, 305, 306, 307, ...   \n2  [901, 902, 904, 47, 48, 56, 72, 74, 47, 48, 56...   \n3               [901, 909, 910, 42, 68, 55, 302, 45]   \n4  [905, 931, 932, 909, 910, 25, 39, 40, 85, 35, ...   \n\n                                           MainImage  \\\n0  https://nherivcnanphkalgybji.supabase.co/stora...   \n1  https://nherivcnanphkalgybji.supabase.co/stora...   \n2  https://nherivcnanphkalgybji.supabase.co/stora...   \n3  https://nherivcnanphkalgybji.supabase.co/stora...   \n4  https://nherivcnanphkalgybji.supabase.co/stora...   \n\n                                            SubImage    Delimiter  \n0  https://nherivcnanphkalgybji.supabase.co/stora...           전신  \n1  https://nherivcnanphkalgybji.supabase.co/stora...           복근  \n2  https://nherivcnanphkalgybji.supabase.co/stora...           복근  \n3  https://nherivcnanphkalgybji.supabase.co/stora...  상체 근력 및 유산소  \n4  https://nherivcnanphkalgybji.supabase.co/stora...  하체 근력 및 유산소  ",
      "text/html": "<div>\n<style scoped>\n    .dataframe tbody tr th:only-of-type {\n        vertical-align: middle;\n    }\n\n    .dataframe tbody tr th {\n        vertical-align: top;\n    }\n\n    .dataframe thead th {\n        text-align: right;\n    }\n</style>\n<table border=\"1\" class=\"dataframe\">\n  <thead>\n    <tr style=\"text-align: right;\">\n      <th></th>\n      <th>id</th>\n      <th>Name</th>\n      <th>Level</th>\n      <th>MainGoal</th>\n      <th>DetailGoal</th>\n      <th>ExList</th>\n      <th>MainImage</th>\n      <th>SubImage</th>\n      <th>Delimiter</th>\n    </tr>\n  </thead>\n  <tbody>\n    <tr>\n      <th>0</th>\n      <td>999</td>\n      <td>테스트 루틴</td>\n      <td>Easy</td>\n      <td>다이어트</td>\n      <td>탄탄한 상체</td>\n      <td>[1, 302, 25, 303]</td>\n      <td>https://nherivcnanphkalgybji.supabase.co/stora...</td>\n      <td>https://nherivcnanphkalgybji.supabase.co/stora...</td>\n      <td>전신</td>\n    </tr>\n    <tr>\n      <th>1</th>\n      <td>86</td>\n      <td>강력한 코어 만들기 중급</td>\n      <td>Normal</td>\n      <td>체력향상</td>\n      <td>코어 강화</td>\n      <td>[901, 929, 930, 904, 302, 304, 305, 306, 307, ...</td>\n      <td>https://nherivcnanphkalgybji.supabase.co/stora...</td>\n      <td>https://nherivcnanphkalgybji.supabase.co/stora...</td>\n      <td>복근</td>\n    </tr>\n    <tr>\n      <th>2</th>\n      <td>10</td>\n      <td>복근 만들기 초급</td>\n      <td>Easy</td>\n      <td>근력강화</td>\n      <td>선명한 복근</td>\n      <td>[901, 902, 904, 47, 48, 56, 72, 74, 47, 48, 56...</td>\n      <td>https://nherivcnanphkalgybji.supabase.co/stora...</td>\n      <td>https://nherivcnanphkalgybji.supabase.co/stora...</td>\n      <td>복근</td>\n    </tr>\n    <tr>\n      <th>3</th>\n      <td>59</td>\n      <td>상체근력 및 체력강화 중급</td>\n      <td>Normal</td>\n      <td>체력향상</td>\n      <td>균형 잡힌 라인</td>\n      <td>[901, 909, 910, 42, 68, 55, 302, 45]</td>\n      <td>https://nherivcnanphkalgybji.supabase.co/stora...</td>\n      <td>https://nherivcnanphkalgybji.supabase.co/stora...</td>\n      <td>상체 근력 및 유산소</td>\n    </tr>\n    <tr>\n      <th>4</th>\n      <td>65</td>\n      <td>힙업과 군살 제거 중급</td>\n      <td>Normal</td>\n      <td>체력향상</td>\n      <td>균형 잡힌 라인</td>\n      <td>[905, 931, 932, 909, 910, 25, 39, 40, 85, 35, ...</td>\n      <td>https://nherivcnanphkalgybji.supabase.co/stora...</td>\n      <td>https://nherivcnanphkalgybji.supabase.co/stora...</td>\n      <td>하체 근력 및 유산소</td>\n    </tr>\n  </tbody>\n</table>\n</div>"
     },
     "execution_count": 11,
     "metadata": {},
     "output_type": "execute_result"
    }
   ],
   "source": [
    "data_file = \"routine.csv\"\n",
    "table_name = \"ExerciseRoutine\"\n",
    "# 업데이트할 컬럼 리스트\n",
    "update_columns = ['Name', 'ExList', 'MainGoal', 'DetailGoal', 'Delimiter', 'Level']\n",
    "\n",
    "update_data = pd.read_csv(data_file)\n",
    "response = supabase.table(table_name).select(\"*\").execute()\n",
    "origin_data = pd.DataFrame(response.data)\n",
    "\n",
    "# 데이터 확인\n",
    "print(update_data.shape)\n",
    "print(origin_data.shape)\n",
    "update_data.head()\n",
    "origin_data.head()"
   ],
   "metadata": {
    "collapsed": false,
    "ExecuteTime": {
     "end_time": "2024-08-13T02:09:21.655524Z",
     "start_time": "2024-08-13T02:09:21.527839Z"
    }
   },
   "id": "1bdba257809c310a",
   "execution_count": 11
  },
  {
   "cell_type": "markdown",
   "source": [
    "3. id 기준 수정할 컬럼에 대해 데이터프레임 병합(inner join) 후 update_data만 남김"
   ],
   "metadata": {
    "collapsed": false
   },
   "id": "1e2e6a108477c31d"
  },
  {
   "cell_type": "code",
   "outputs": [
    {
     "data": {
      "text/plain": "904"
     },
     "execution_count": 12,
     "metadata": {},
     "output_type": "execute_result"
    }
   ],
   "source": [
    "# 공통된 id가 있는 row만 데이터프레임 병합\n",
    "merged_df = origin_data.merge(update_data[['id']+update_columns], on='id', suffixes=('_orig','_new'))\n",
    "# 업데이트 할 데이터 suffix '_new'를 다시 원래 컬럼 이름으로 변환\n",
    "new_data = merged_df[['id']+[f\"{col}_new\" for col in update_columns]].rename(\n",
    "    columns={f\"{col}_new\": col for col in update_columns}\n",
    ") \n",
    "# Side 컬럼의 데이터 타입을 float에서 int로 변환\n",
    "if 'Side' in update_columns:\n",
    "    new_data['Side'] = new_data['Side'].astype(int)\n",
    "\n",
    "# 데이터프레임을 딕셔너리 리스트로 변환\n",
    "new_dict = new_data.to_dict(orient='records')\n",
    "new_dict.__sizeof__()"
   ],
   "metadata": {
    "collapsed": false,
    "ExecuteTime": {
     "end_time": "2024-08-13T02:09:25.149385Z",
     "start_time": "2024-08-13T02:09:25.141582Z"
    }
   },
   "id": "85d655c18d1be0ca",
   "execution_count": 12
  },
  {
   "cell_type": "code",
   "outputs": [
    {
     "data": {
      "text/plain": "[{'id': 86,\n  'Name': '강력한 코어 만들기 중급',\n  'ExList': '[901,929,930,904,302,304,305,306,307,68,42,302] ',\n  'MainGoal': '체력향상',\n  'DetailGoal': '코어 강화',\n  'Delimiter': '복근',\n  'Level': 'Normal'},\n {'id': 10,\n  'Name': '복근 만들기 초급',\n  'ExList': '[901,902,904,47,48,56,72,74,47,48,56,72,74,301]',\n  'MainGoal': '근력강화',\n  'DetailGoal': '선명한 복근',\n  'Delimiter': '복근',\n  'Level': 'Easy'},\n {'id': 59,\n  'Name': '상체근력 및 체력강화 중급',\n  'ExList': '[901,909,910,42,68,55,302,45]',\n  'MainGoal': '체력향상',\n  'DetailGoal': '균형 잡힌 라인',\n  'Delimiter': '상체 근력 및 유산소',\n  'Level': 'Normal'},\n {'id': 65,\n  'Name': '힙업과 군살 제거 중급',\n  'ExList': '[905,931,932,909,910,25,39,40,85,35,42,28,64,25,39,40,85,35,42,28,64,25,39,40,85,35,42,28,64]',\n  'MainGoal': '체력향상',\n  'DetailGoal': '균형 잡힌 라인',\n  'Delimiter': '하체 근력 및 유산소',\n  'Level': 'Normal'},\n {'id': 85,\n  'Name': '강력한 코어 만들기 초급',\n  'ExList': '[901,929,930,904,302,59,51,49,46,304,305,302]',\n  'MainGoal': '체력향상',\n  'DetailGoal': '코어 강화',\n  'Delimiter': '복근',\n  'Level': 'Easy'},\n {'id': 81,\n  'Name': '건강한 몸매 만들기 상급',\n  'ExList': '[901,906,905,904,302,304,305,45,42,38,27,302,304,305,45,42,38,27,302,304,305,45,42,38,27]',\n  'MainGoal': '다이어트',\n  'DetailGoal': '군살 제거',\n  'Delimiter': '전신',\n  'Level': 'Hard'},\n {'id': 11,\n  'Name': '복근 만들기 중급',\n  'ExList': '[901,902,904,14,41,42,46,49,51,14,41,42,46,49,51,302]',\n  'MainGoal': '근력강화',\n  'DetailGoal': '선명한 복근',\n  'Delimiter': '복근',\n  'Level': 'Normal'},\n {'id': 12,\n  'Name': '복근 만들기 상급',\n  'ExList': '[901,902,904,54,49,59,45,54,49,59,45,304,305,306,307,302]',\n  'MainGoal': '근력강화',\n  'DetailGoal': '선명한 복근',\n  'Delimiter': '복근',\n  'Level': 'Hard'},\n {'id': 13,\n  'Name': '코어 강화 루틴 초급',\n  'ExList': '[901,902,904,47,48,56,72,73,74,77,81,306,307,302]',\n  'MainGoal': '근력강화',\n  'DetailGoal': '코어 강화',\n  'Delimiter': '복근',\n  'Level': 'Easy'},\n {'id': 1,\n  'Name': '넓은 등 만들기 초급',\n  'ExList': '[901,906,907,908,52,67,88,17,52,67,88,17]',\n  'MainGoal': '근력강화',\n  'DetailGoal': '등',\n  'Delimiter': '등',\n  'Level': 'Easy'},\n {'id': 2,\n  'Name': '넓은 등 만들기 중급',\n  'ExList': '[901,906,907,908,52,53,58,67,88,52,53,58,67,88]',\n  'MainGoal': '근력강화',\n  'DetailGoal': '등',\n  'Delimiter': '등',\n  'Level': 'Normal'},\n {'id': 3,\n  'Name': '넓은 등 만들기 상급',\n  'ExList': '[901,906,907,908,52,53,58,67,88,52,53,58,67,88,52,53,58,67,88]',\n  'MainGoal': '근력강화',\n  'DetailGoal': '등',\n  'Delimiter': '등',\n  'Level': 'Hard'},\n {'id': 4,\n  'Name': '푸쉬업 기본 동작 이해',\n  'ExList': '[904,907,908,2,18,13,2,18,13,2,18,13]',\n  'MainGoal': '근력강화',\n  'DetailGoal': '가슴',\n  'Delimiter': '가슴',\n  'Level': 'Easy'},\n {'id': 5,\n  'Name': '중급 푸쉬업 코스',\n  'ExList': '[904,907,908,21,4,13,21,4,13,1]',\n  'MainGoal': '근력강화',\n  'DetailGoal': '가슴',\n  'Delimiter': '가슴',\n  'Level': 'Normal'},\n {'id': 6,\n  'Name': '상급 푸쉬업 코스',\n  'ExList': '[904,907,908,1,4,5,15,1,4,15,1,4,15]',\n  'MainGoal': '근력강화',\n  'DetailGoal': '가슴',\n  'Delimiter': '가슴',\n  'Level': 'Hard'},\n {'id': 7,\n  'Name': '푸쉬업 기초',\n  'ExList': '[904,907,908,2,8,17,18,2,8,17,18,2]',\n  'MainGoal': '근력강화',\n  'DetailGoal': '가슴',\n  'Delimiter': '가슴',\n  'Level': 'Easy'},\n {'id': 8,\n  'Name': '푸쉬업 중급',\n  'ExList': '[904,907,908,1,2,16,12,1,2,16,12,1]',\n  'MainGoal': '근력강화',\n  'DetailGoal': '가슴',\n  'Delimiter': '가슴',\n  'Level': 'Normal'},\n {'id': 9,\n  'Name': '푸쉬업 상급',\n  'ExList': '[904,907,908,1,3,5,6,10,1,3,5,6,10]',\n  'MainGoal': '근력강화',\n  'DetailGoal': '가슴',\n  'Delimiter': '가슴',\n  'Level': 'Hard'},\n {'id': 14,\n  'Name': '코어 강화 루틴 중급',\n  'ExList': '[901,902,904,14,89,84,79,66,62,14,89,84,79,66,62,302]',\n  'MainGoal': '근력강화',\n  'DetailGoal': '코어 강화',\n  'Delimiter': '복근',\n  'Level': 'Normal'},\n {'id': 15,\n  'Name': '코어 강화 루틴 상급',\n  'ExList': '[901,902,904,44,54,59,92,93,44,54,59,92,93,304,305,306,307,302]',\n  'MainGoal': '근력강화',\n  'DetailGoal': '코어 강화',\n  'Delimiter': '복근',\n  'Level': 'Hard'},\n {'id': 16,\n  'Name': '초급 상체 루틴',\n  'ExList': '[901,906,907,908,2,58,66,2,58,66]',\n  'MainGoal': '근력강화',\n  'DetailGoal': '탄탄한 상체',\n  'Delimiter': '상체',\n  'Level': 'Easy'},\n {'id': 17,\n  'Name': '중급 상체 루틴',\n  'ExList': '[901,906,907,908,43,14,1,61,43,14,1,61]',\n  'MainGoal': '근력강화',\n  'DetailGoal': '탄탄한 상체',\n  'Delimiter': '상체',\n  'Level': 'Normal'},\n {'id': 18,\n  'Name': '상급 상체 루틴',\n  'ExList': '[901,906,907,908,6,68,45,6,68,45,1,6,68,45,1]',\n  'MainGoal': '근력강화',\n  'DetailGoal': '탄탄한 상체',\n  'Delimiter': '상체',\n  'Level': 'Hard'},\n {'id': 19,\n  'Name': '두꺼운 프레임 만들기 초급',\n  'ExList': '[904,907,908,904,2,52,16,58,2,52,16,58,2,52,16,58]',\n  'MainGoal': '근력강화',\n  'DetailGoal': '탄탄한 상체',\n  'Delimiter': '상체',\n  'Level': 'Easy'},\n {'id': 21,\n  'Name': '두꺼운 프레임 만들기 상급',\n  'ExList': '[904,907,908,904,1,67,4,53,5,58,1,67,4,53,5,58]',\n  'MainGoal': '근력강화',\n  'DetailGoal': '탄탄한 상체',\n  'Delimiter': '상체',\n  'Level': 'Hard'},\n {'id': 22,\n  'Name': '상체 프레임 만들기 초급',\n  'ExList': '[904,907,908,904,2,16,52,58,2,16,52,58,2,16,52,58]',\n  'MainGoal': '근력강화',\n  'DetailGoal': '탄탄한 상체',\n  'Delimiter': '상체',\n  'Level': 'Easy'},\n {'id': 23,\n  'Name': '상체 프레임 만들기 중급',\n  'ExList': '[904,907,908,904,1,4,52,58,1,4,52,58,1,4,52,58]',\n  'MainGoal': '근력강화',\n  'DetailGoal': '탄탄한 상체',\n  'Delimiter': '상체',\n  'Level': 'Normal'},\n {'id': 24,\n  'Name': '상체 프레임 만들기 상급',\n  'ExList': '[904,907,908,904,1,4,5,67,53,58,1,4,5,67,53,58]',\n  'MainGoal': '근력강화',\n  'DetailGoal': '탄탄한 상체',\n  'Delimiter': '상체',\n  'Level': 'Hard'},\n {'id': 25,\n  'Name': '상체 강화 루틴 초급',\n  'ExList': '[901,904,903,907,908,2,13,17,47,72,81,80,2,13,17,47,72,81,80]',\n  'MainGoal': '근력강화',\n  'DetailGoal': '탄탄한 상체',\n  'Delimiter': '상체',\n  'Level': 'Easy'},\n {'id': 26,\n  'Name': '상체 강화 루틴 중급',\n  'ExList': '[901,904,903,907,908,1,16,52,51,49,46,58,61,1,16,52,51,49,46,58,61]',\n  'MainGoal': '근력강화',\n  'DetailGoal': '탄탄한 상체',\n  'Delimiter': '상체',\n  'Level': 'Normal'},\n {'id': 27,\n  'Name': '상체 강화 루틴 상급',\n  'ExList': '[901,904,903,907,908,16,5,11,45,58,61,52,49,16,5,11,45,58,61,52,49]',\n  'MainGoal': '근력강화',\n  'DetailGoal': '탄탄한 상체',\n  'Delimiter': '상체',\n  'Level': 'Hard'},\n {'id': 28,\n  'Name': '초급 하체 루틴',\n  'ExList': '[909,910,911,912,915,916,25,76,82,65,25,76 ,82,65,25,76 ,82,65]',\n  'MainGoal': '근력강화',\n  'DetailGoal': '탄탄한 하체',\n  'Delimiter': '하체',\n  'Level': 'Easy'},\n {'id': 29,\n  'Name': '중급 하체 루틴',\n  'ExList': '[909,910,911,912,915,916,20,25,28,60,43,20,25,28,60,43,20,25,28,60,43]',\n  'MainGoal': '근력강화',\n  'DetailGoal': '탄탄한 하체',\n  'Delimiter': '하체',\n  'Level': 'Normal'},\n {'id': 30,\n  'Name': '상급 하체 루틴',\n  'ExList': '[909,910,911,912,915,916,25,26,36,98,99,303,25,26,36,98,99,303,25,26,36,98,99,303]',\n  'MainGoal': '근력강화',\n  'DetailGoal': '탄탄한 하체',\n  'Delimiter': '하체',\n  'Level': 'Hard'},\n {'id': 31,\n  'Name': '스쿼트 모음 초급 ',\n  'ExList': '[905,909,910,911,912,25,29,27,31,25,29,27,31,28]',\n  'MainGoal': '근력강화',\n  'DetailGoal': '탄탄한 하체',\n  'Delimiter': '하체',\n  'Level': 'Easy'},\n {'id': 32,\n  'Name': '스쿼트 모음 중급',\n  'ExList': '[905,909,910,911,912,25,27,28,32,102,103,25,27,28,32,102,103,303]',\n  'MainGoal': '근력강화',\n  'DetailGoal': '탄탄한 하체',\n  'Delimiter': '하체',\n  'Level': 'Normal'},\n {'id': 33,\n  'Name': '스쿼트 모음 상급',\n  'ExList': '[905,909,910,911,912,303,25,26,28,25,26,28,25,26,28,30,303]',\n  'MainGoal': '근력강화',\n  'DetailGoal': '탄탄한 하체',\n  'Delimiter': '하체',\n  'Level': 'Hard'},\n {'id': 34,\n  'Name': '스쿼트/런지 입문하기',\n  'ExList': '[905,909,910,911,912,933,934,20,25,22,26,20,25,22,26,20,25,22,26]',\n  'MainGoal': '근력강화',\n  'DetailGoal': '탄탄한 하체',\n  'Delimiter': '하체',\n  'Level': 'Easy'},\n {'id': 35,\n  'Name': '중급 스쿼트/런지 세트',\n  'ExList': '[905,909,910,911,912,933,934,20,25,21,28,20,25,21,28,303]',\n  'MainGoal': '근력강화',\n  'DetailGoal': '탄탄한 하체',\n  'Delimiter': '하체',\n  'Level': 'Normal'},\n {'id': 36,\n  'Name': '고급 스쿼트/런지 세트',\n  'ExList': '[905,909,910,911,912,933,934,20,25,100,101,102,103,100,101,102,103]',\n  'MainGoal': '근력강화',\n  'DetailGoal': '탄탄한 하체',\n  'Delimiter': '하체',\n  'Level': 'Hard'},\n {'id': 37,\n  'Name': '하체 강화 첫걸음',\n  'ExList': '[905,909,910,911,912,933,934,20,22,25,26,29,20,22,25,26,29]',\n  'MainGoal': '근력강화',\n  'DetailGoal': '탄탄한 하체',\n  'Delimiter': '하체',\n  'Level': 'Easy'},\n {'id': 39,\n  'Name': '상급 하체 강화',\n  'ExList': '[905,909,910,911,912,933,934,23,28,96,97,100,101,23,28,96,97,100,101,303,303]',\n  'MainGoal': '근력강화',\n  'DetailGoal': '탄탄한 하체',\n  'Delimiter': '하체',\n  'Level': 'Hard'},\n {'id': 40,\n  'Name': '허벅지 근력 키우기 초급',\n  'ExList': '[905,909,910,933,934,935,936,20,82,98,99,20,82,98,99,20,82,98,99]',\n  'MainGoal': '근력향상',\n  'DetailGoal': '탄탄한 하체',\n  'Delimiter': '하체 ',\n  'Level': 'Easy'},\n {'id': 41,\n  'Name': '허벅지 근력 키우기 중급',\n  'ExList': '[905,909,910,933,934,935,936,20,21,22,36,20,21,22,36,20,21,22,36]',\n  'MainGoal': '근력향상',\n  'DetailGoal': '탄탄한 하체',\n  'Delimiter': '하체 ',\n  'Level': 'Normal'},\n {'id': 42,\n  'Name': '허벅지 근력 키우기 상급',\n  'ExList': '[905,909,910,933,934,935,936,21,22,23,25,100,101,21,22,23,25,100,101,21,22,23,25,100,101]',\n  'MainGoal': '근력향상',\n  'DetailGoal': '탄탄한 하체',\n  'Delimiter': '하체 ',\n  'Level': 'Hard'},\n {'id': 43,\n  'Name': '애플힙 만들기 초급',\n  'ExList': '[905,909,910,911,912,25,28,35,98,99,25,28,35,98,99]',\n  'MainGoal': '근력강화',\n  'DetailGoal': '힙업 및 애플힙',\n  'Delimiter': '엉덩이',\n  'Level': 'Easy'},\n {'id': 44,\n  'Name': '애플힙 만들기 중급',\n  'ExList': '[905,909,910,911,912,25,26,20,98,99,25,26,20,98,99,25,26,20,98,99]',\n  'MainGoal': '근력강화',\n  'DetailGoal': '힙업 및 애플힙',\n  'Delimiter': '엉덩이',\n  'Level': 'Normal'},\n {'id': 45,\n  'Name': '애플힙 만들기 상급',\n  'ExList': '[905,909,910,911,912,25,39,26,98,99,303,25,39,26,98,99,303,25,39,26,98,99,303]',\n  'MainGoal': '근력강화',\n  'DetailGoal': '힙업 및 애플힙',\n  'Delimiter': '엉덩이',\n  'Level': 'Hard'},\n {'id': 46,\n  'Name': '멋진 하체 만들기 초급',\n  'ExList': '[905,909,910,911,912,25,20,82,25,20,82,25,20,82]',\n  'MainGoal': '근력강화',\n  'DetailGoal': '힙업 및 애플힙',\n  'Delimiter': '엉덩이',\n  'Level': 'Easy'},\n {'id': 47,\n  'Name': '멋진 하체 만들기 중급',\n  'ExList': '[905,909,910,911,912,20,22,23,28,50,20,22,23,28,50]',\n  'MainGoal': '근력강화',\n  'DetailGoal': '힙업 및 애플힙',\n  'Delimiter': '엉덩이',\n  'Level': 'Normal'},\n {'id': 48,\n  'Name': '멋진 하체 만들기 상급',\n  'ExList': '[905,909,910,911,912,303,28,26,102,103,28,26,102,103,28,26,102,103,303]',\n  'MainGoal': '근력강화',\n  'DetailGoal': '힙업 및 애플힙',\n  'Delimiter': '엉덩이',\n  'Level': 'Hard'},\n {'id': 49,\n  'Name': '힙업 프로젝트 초급',\n  'ExList': '[905,931,932,909,910,25,98,99,29,25,98,99,29,25,98,99,29,303]',\n  'MainGoal': '근력향상',\n  'DetailGoal': '힙업 및 애플힙',\n  'Delimiter': '엉덩이',\n  'Level': 'Easy'},\n {'id': 50,\n  'Name': '힙업 프로젝트 중급',\n  'ExList': '[905,931,932,909,910,25,40,35,28,98,99,25,40,35,28,98,9925,40,35,28,98,99,303]',\n  'MainGoal': '근력향상',\n  'DetailGoal': '힙업 및 애플힙',\n  'Delimiter': '엉덩이',\n  'Level': 'Normal'},\n {'id': 51,\n  'Name': '힙업 프로젝트 상급',\n  'ExList': '[905,931,932,909,910,20,25,100,101,102,103,21,303,20,25,100,101,102,103,21,303,20,25,100,101,102,103,21,303]',\n  'MainGoal': '근력향상',\n  'DetailGoal': '힙업 및 애플힙',\n  'Delimiter': '엉덩이',\n  'Level': 'Hard'},\n {'id': 52,\n  'Name': '스쿼트/푸쉬업 입문하기',\n  'ExList': '[935,936,909,910,903,907,908,2,25,8,28,17,27,2,25,8,28,17,27]',\n  'MainGoal': '근력강화',\n  'DetailGoal': '균형 잡힌 라인',\n  'Delimiter': '전신',\n  'Level': 'Easy'},\n {'id': 53,\n  'Name': '중급 스쿼트/푸쉬업 세트',\n  'ExList': '[935,936,909,910,903,907,908,1,25,16,26,4,26,1,25,16,26,4,26]',\n  'MainGoal': '근력강화',\n  'DetailGoal': '균형 잡힌 라인',\n  'Delimiter': '전신',\n  'Level': 'Normal'},\n {'id': 54,\n  'Name': '고급 스쿼트/푸쉬업 세트',\n  'ExList': '[935,936,909,910,903,907,908,1,25,3,28,6,27,1,25,3,28,6,27,4,303]',\n  'MainGoal': '근력강화',\n  'DetailGoal': '균형 잡힌 라인',\n  'Delimiter': '전신',\n  'Level': 'Hard'},\n {'id': 55,\n  'Name': '전신 근력 향상 초급',\n  'ExList': '[909,910,931,932,903,907,908,1,51,49,44,14,25,1,51,49,44,14,25]',\n  'MainGoal': '근력강화',\n  'DetailGoal': '균형 잡힌 라인',\n  'Delimiter': '전신',\n  'Level': 'Easy'},\n {'id': 57,\n  'Name': '전신 근력 향상 상급',\n  'ExList': '[909,910,931,932,903,907,908,5,6,59,25,100,101,5,6,59,25,100,101]',\n  'MainGoal': '근력강화',\n  'DetailGoal': '균형 잡힌 라인',\n  'Delimiter': '전신',\n  'Level': 'Hard'},\n {'id': 58,\n  'Name': '상체근력 및 체력강화 초급',\n  'ExList': '[901,909,910,65,41,42,51,65,41,42,51]',\n  'MainGoal': '체력향상',\n  'DetailGoal': '균형 잡힌 라인',\n  'Delimiter': '상체 근력 및 유산소',\n  'Level': 'Easy'},\n {'id': 60,\n  'Name': '상체근력 및 체력강화 상급',\n  'ExList': '[901,909,910,45,42,302,45,42,302,45,42,302]',\n  'MainGoal': '체력향상',\n  'DetailGoal': '균형 잡힌 라인',\n  'Delimiter': '상체 근력 및 유산소',\n  'Level': 'Hard'},\n {'id': 61,\n  'Name': '가슴 및 체력 키우기 초급',\n  'ExList': '[903,904,905,909,910,27,42,65,71,8,18,17,27,42,65,71]',\n  'MainGoal': '체력향상',\n  'DetailGoal': '균형 잡힌 라인',\n  'Delimiter': '상체 근력 및 유산소',\n  'Level': 'Easy'},\n {'id': 62,\n  'Name': '가슴 및 체력 키우기 중급',\n  'ExList': '[903,904,905,909,910,45,64,71,48,1,4,12,16,45,64,71,48]',\n  'MainGoal': '체력향상',\n  'DetailGoal': '균형 잡힌 라인',\n  'Delimiter': '상체 근력 및 유산소',\n  'Level': 'Normal'},\n {'id': 63,\n  'Name': '가슴 및 체력 키우기 상급',\n  'ExList': '[903,904,905,909,910,64,45,42,68,1,4,16,15,64,45,42,68]',\n  'MainGoal': '체력향상',\n  'DetailGoal': '균형 잡힌 라인',\n  'Delimiter': '상체 근력 및 유산소',\n  'Level': 'Hard'},\n {'id': 64,\n  'Name': '힙업과 군살 제거 초급',\n  'ExList': '[905,931,932,909,910,25,45,98,99,42,65,29,25,45,98,99,42,65,29,25,45,98,99,42,65,29]',\n  'MainGoal': '체력향상',\n  'DetailGoal': '균형 잡힌 라인',\n  'Delimiter': '하체 근력 및 유산소',\n  'Level': 'Easy'},\n {'id': 66,\n  'Name': '힙업과 군살 제거 상급',\n  'ExList': '[905,931,932,909,910,20,71,25,24,100,101,45,102,103,40,20,71,25,24,100,101,45,102,103,40,20,71,25,24,100,101,45,102,103,40]',\n  'MainGoal': '체력향상',\n  'DetailGoal': '균형 잡힌 라인',\n  'Delimiter': '하체 근력 및 유산소',\n  'Level': 'Hard'},\n {'id': 67,\n  'Name': '하체 근력 및 체력 향상 초급',\n  'ExList': '[905,909,910,933,934,935,936,20,82,98,99,20,82,98,99,42,45,64,47,42,45,64,47]',\n  'MainGoal': '체력향상',\n  'DetailGoal': '균형 잡힌 라인',\n  'Delimiter': '하체 근력 및 유산소',\n  'Level': 'Easy'},\n {'id': 68,\n  'Name': '하체 근력 및 체력 향상 중급',\n  'ExList': '[905,909,910,933,934,935,936,20,21,22,36,20,21,22,36,42,45,64,47,42,45,64,47]',\n  'MainGoal': '체력향상',\n  'DetailGoal': '균형 잡힌 라인',\n  'Delimiter': '하체 근력 및 유산소',\n  'Level': 'Normal'},\n {'id': 69,\n  'Name': '하체 근력 및 체력 향상 상급',\n  'ExList': '[905,909,910,933,934,935,936,21,22,23,25,100,101,21,22,23,25,100,101,42,45,64,47,42,45,64,47] ',\n  'MainGoal': '체력향상',\n  'DetailGoal': '균형 잡힌 라인',\n  'Delimiter': '하체 근력 및 유산소',\n  'Level': 'Hard'},\n {'id': 71,\n  'Name': '전신 체력향상 중급',\n  'ExList': '[903,904,905,939,940,14,27,47,65,71,42,68,14,27,47,65,71,42,68,14,27,47,65,71,42,68]',\n  'MainGoal': '체력향상',\n  'DetailGoal': '균형 잡힌 라인',\n  'Delimiter': '전신',\n  'Level': 'Normal'},\n {'id': 72,\n  'Name': '전신 체력향상 상급',\n  'ExList': '[903,904,905,939,940,14,27,42,68,24,45,38,14,27,42,68,24,45,38,14,27,42,68,24,45,38]',\n  'MainGoal': '체력향상',\n  'DetailGoal': '균형 잡힌 라인',\n  'Delimiter': '전신',\n  'Level': 'Hard'},\n {'id': 73,\n  'Name': '심폐지구력 향상 초급',\n  'ExList': '[903,904,905,939,940,64,27,60,30,45,42,64,27,60,30,45,42]',\n  'MainGoal': '다이어트',\n  'DetailGoal': '심페지구력 향상',\n  'Delimiter': '유산소',\n  'Level': 'Easy'},\n {'id': 74,\n  'Name': '심폐지구력 향상 중급',\n  'ExList': '[903,904,905,939,940,64,27,60,30,45,42,94,95,44,64,27,60,30,45,42,94,95,44]',\n  'MainGoal': '다이어트',\n  'DetailGoal': '심페지구력 향상',\n  'Delimiter': '유산소',\n  'Level': 'Normal'},\n {'id': 75,\n  'Name': '심폐지구력 향상 상급',\n  'ExList': '[903,904,905,939,940,64,27,60,30,45,42,94,95,44,64,27,60,30,45,42,94,95,44,64,27,60,30,45,42,94,95,44]',\n  'MainGoal': '다이어트',\n  'DetailGoal': '심페지구력 향상',\n  'Delimiter': '유산소',\n  'Level': 'Hard'},\n {'id': 84,\n  'Name': '다이어트를 쉽고 재밌게! 상급',\n  'ExList': '[901,906,905,904,27,38,42,45,30,87,96,97,27,38,42,45,30,87,96,97,27,38,42,45,30,87,96,97]',\n  'MainGoal': '다이어트',\n  'DetailGoal': '군살 제거',\n  'Delimiter': '전신',\n  'Level': 'Hard'},\n {'id': 83,\n  'Name': '다이어트를 쉽고 재밌게! 중급',\n  'ExList': '[901,906,905,904,27,38,42,45,30,27,38,42,45,30,27,38,42,45,30]',\n  'MainGoal': '다이어트',\n  'DetailGoal': '군살 제거',\n  'Delimiter': '전신',\n  'Level': 'Normal'},\n {'id': 82,\n  'Name': '다이어트를 쉽고 재밌게! 초급',\n  'ExList': '[901,906,905,904,38,40,43,85,71,75,38,40,43,85,71,75,38,40,43,85,71,75]',\n  'MainGoal': '다이어트',\n  'DetailGoal': '군살 제거',\n  'Delimiter': '전신',\n  'Level': 'Easy'},\n {'id': 80,\n  'Name': '건강한 몸매 만들기 중급',\n  'ExList': '[901,906,905,904,302,304,305,55,43,42,27,302,304,305,55,43,42,27]',\n  'MainGoal': '다이어트',\n  'DetailGoal': '군살 제거',\n  'Delimiter': '전신',\n  'Level': 'Normal'},\n {'id': 79,\n  'Name': '건강한 몸매 만들기 초급',\n  'ExList': '[901,906,905,904,302,55,38,28,302,55,38,28,302,55,38,28]',\n  'MainGoal': '다이어트',\n  'DetailGoal': '군살 제거',\n  'Delimiter': '전신',\n  'Level': 'Easy'},\n {'id': 78,\n  'Name': '나의 체력 키우기 상급',\n  'ExList': '[915,916,902,903,904,905,44,94,95,42,45,30,60,27,64,44,94,95,42,45,30,60,27,64,44,94,95,42,45,30,60,27,64]',\n  'MainGoal': '다이어트',\n  'DetailGoal': '심페지구력 향상',\n  'Delimiter': '유산소',\n  'Level': 'Hard'},\n {'id': 77,\n  'Name': '나의 체력 키우기 중급',\n  'ExList': '[915,916,902,903,904,905,44,94,95,42,45,30,60,27,64,44,94,95,42,45,30,60,27,64]',\n  'MainGoal': '다이어트',\n  'DetailGoal': '심페지구력 향상',\n  'Delimiter': '유산소',\n  'Level': 'Normal'},\n {'id': 76,\n  'Name': '나의 체력 키우기 초급',\n  'ExList': '[915,916,902,903,904,905,42,45,30,60,27,64,42,45,30,60,27,64]',\n  'MainGoal': '다이어트',\n  'DetailGoal': '심페지구력 향상',\n  'Delimiter': '유산소',\n  'Level': 'Easy'},\n {'id': 89,\n  'Name': '멋있는 복근 만들기 중급',\n  'ExList': '[901,929,930,904,14,49,46,51,47,44,14,49,46,51,47,44,302]',\n  'MainGoal': '체력향상',\n  'DetailGoal': '선명한 복근',\n  'Delimiter': '복근',\n  'Level': 'Normal'},\n {'id': 90,\n  'Name': '멋있는 복근 만들기 상급',\n  'ExList': '[901,929,930,904,302,306,307,49,62,42,302,306,307,49,62,42,302,306,307,49,62,42]',\n  'MainGoal': '체력향상',\n  'DetailGoal': '선명한 복근',\n  'Delimiter': '복근',\n  'Level': 'Hard'},\n {'id': 91,\n  'Name': '균형 있는 몸 만들기 초급',\n  'ExList': '[915,916,902,903,904,905,2,48,25,64,20,74,2,48,25,64,20,74,2,48,25,64,20,74]',\n  'MainGoal': '체력향상',\n  'DetailGoal': '심페지구력 향상',\n  'Delimiter': '유산소',\n  'Level': 'Easy'},\n {'id': 93,\n  'Name': '균형 있는 몸 만들기 상급',\n  'ExList': '[915,916,902,903,904,905,3,45,67,30,61,42,3,45,67,30,61,42,3,45,67,30,61,42,303]',\n  'MainGoal': '체력향상',\n  'DetailGoal': '심페지구력 향상',\n  'Delimiter': '유산소',\n  'Level': 'Hard'},\n {'id': 94,\n  'Name': '등 근육 만들기 초급',\n  'ExList': '[901,906,907,908,17,88,67,52,17,88,67,52,17,88,67,52]',\n  'MainGoal': '근력강화',\n  'DetailGoal': '등',\n  'Delimiter': '등',\n  'Level': 'Easy'},\n {'id': 95,\n  'Name': '등 근육 만들기 중급',\n  'ExList': '[901,906,907,908,88,67,58,52,53,88,67,58,52,53]',\n  'MainGoal': '근력강화',\n  'DetailGoal': '등',\n  'Delimiter': '등',\n  'Level': 'Normal'},\n {'id': 96,\n  'Name': '등 근육 만들기 상급',\n  'ExList': '[901,906,907,908,88,67,58,52,53,88,67,58,52,53,88,67,58,52,53]',\n  'MainGoal': '근력강화',\n  'DetailGoal': '등',\n  'Delimiter': '등',\n  'Level': 'Hard'},\n {'id': 97,\n  'Name': '근력과 유산소를 동시에! 초급',\n  'ExList': '[915,916,902,903,904,905,2,58,49,25,20,64,42,2,58,49,25,20,64,42]',\n  'MainGoal': '다이어트',\n  'DetailGoal': '심페지구력 향상',\n  'Delimiter': '전신 ',\n  'Level': 'Easy'},\n {'id': 87,\n  'Name': '강력한 코어 만들기 상급',\n  'ExList': '[901,929,930,904,302,304,305,306,307,301,62,49,302]',\n  'MainGoal': '체력향상',\n  'DetailGoal': '코어 강화',\n  'Delimiter': '복근',\n  'Level': 'Hard'},\n {'id': 98,\n  'Name': '근력과 유산소를 동시에! 중급',\n  'ExList': '[915,916,902,903,904,905,1,52,49,28,98,99,1,52,49,28,98,99]',\n  'MainGoal': '다이어트',\n  'DetailGoal': '심페지구력 향상',\n  'Delimiter': '전신',\n  'Level': 'Normal'},\n {'id': 99,\n  'Name': '근력과 유산소를 동시에! 상급',\n  'ExList': '[915,916,902,903,904,905,1,27,28,52,67,62,66,3,45,42,59,302]',\n  'MainGoal': '다이어트',\n  'DetailGoal': '심페지구력 향상',\n  'Delimiter': '전신',\n  'Level': 'Hard'},\n {'id': 20,\n  'Name': '두꺼운 프레임 만들기 중급',\n  'ExList': '[904,907,908,904,1,52,4,58,1,52,4,58,1,52,4,58]',\n  'MainGoal': '근력강화',\n  'DetailGoal': '탄탄한 상체',\n  'Delimiter': '상체',\n  'Level': 'Normal'},\n {'id': 38,\n  'Name': '중급 하체 강화',\n  'ExList': '[905,909,910,911,912,933,934,25,26,27,20,28,25,26,27,20,28,303]',\n  'MainGoal': '근력강화',\n  'DetailGoal': '탄탄한 하체',\n  'Delimiter': '하체',\n  'Level': 'Normal'},\n {'id': 56,\n  'Name': '전신 근력 향상 중급',\n  'ExList': '[909,910,931,932,903,907,908,25,42,14,52,1,25,42,14,52,1,25,42,14,52,1]',\n  'MainGoal': '근력강화',\n  'DetailGoal': '균형 잡힌 라인',\n  'Delimiter': '전신',\n  'Level': 'Normal'},\n {'id': 70,\n  'Name': '전신 체력향상 초급',\n  'ExList': '[903,904,905,939,940,14,13,27,47,65,71,14,13,27,47,65,71,14,13,27,47,65,71]',\n  'MainGoal': '체력향상',\n  'DetailGoal': '균형 잡힌 라인',\n  'Delimiter': '전신',\n  'Level': 'Easy'},\n {'id': 88,\n  'Name': '멋있는 복근 만들기 초급',\n  'ExList': '[901,929,930,904,47,48,74,51,42,49,46,302]',\n  'MainGoal': '체력향상',\n  'DetailGoal': '선명한 복근',\n  'Delimiter': '복근',\n  'Level': 'Easy'},\n {'id': 92,\n  'Name': '균형 있는 몸 만들기 중급',\n  'ExList': '[915,916,902,903,904,905,1,27,49,40,61,302,58,85,1,27,49,40,61,302,58,85]',\n  'MainGoal': '체력향상',\n  'DetailGoal': '심페지구력 향상',\n  'Delimiter': '유산소',\n  'Level': 'Normal'}]"
     },
     "execution_count": 13,
     "metadata": {},
     "output_type": "execute_result"
    }
   ],
   "source": [
    "new_dict"
   ],
   "metadata": {
    "collapsed": false,
    "ExecuteTime": {
     "end_time": "2024-08-13T02:09:29.174720Z",
     "start_time": "2024-08-13T02:09:29.163363Z"
    }
   },
   "id": "2072e37d2d8c31a",
   "execution_count": 13
  },
  {
   "cell_type": "code",
   "outputs": [],
   "source": [
    "# 공백제거\n",
    "for item in new_dict:\n",
    "    if item['id'] == 86:\n",
    "        item['ExList'] = item['ExList'].strip()"
   ],
   "metadata": {
    "collapsed": false,
    "ExecuteTime": {
     "end_time": "2024-08-13T02:09:45.199189Z",
     "start_time": "2024-08-13T02:09:45.196166Z"
    }
   },
   "id": "decbccdfe29be3f6",
   "execution_count": 14
  },
  {
   "cell_type": "code",
   "outputs": [
    {
     "data": {
      "text/plain": "[{'id': 86,\n  'Name': '강력한 코어 만들기 중급',\n  'ExList': '[901,929,930,904,302,304,305,306,307,68,42,302]',\n  'MainGoal': '체력향상',\n  'DetailGoal': '코어 강화',\n  'Delimiter': '복근',\n  'Level': 'Normal'},\n {'id': 10,\n  'Name': '복근 만들기 초급',\n  'ExList': '[901,902,904,47,48,56,72,74,47,48,56,72,74,301]',\n  'MainGoal': '근력강화',\n  'DetailGoal': '선명한 복근',\n  'Delimiter': '복근',\n  'Level': 'Easy'},\n {'id': 59,\n  'Name': '상체근력 및 체력강화 중급',\n  'ExList': '[901,909,910,42,68,55,302,45]',\n  'MainGoal': '체력향상',\n  'DetailGoal': '균형 잡힌 라인',\n  'Delimiter': '상체 근력 및 유산소',\n  'Level': 'Normal'},\n {'id': 65,\n  'Name': '힙업과 군살 제거 중급',\n  'ExList': '[905,931,932,909,910,25,39,40,85,35,42,28,64,25,39,40,85,35,42,28,64,25,39,40,85,35,42,28,64]',\n  'MainGoal': '체력향상',\n  'DetailGoal': '균형 잡힌 라인',\n  'Delimiter': '하체 근력 및 유산소',\n  'Level': 'Normal'},\n {'id': 85,\n  'Name': '강력한 코어 만들기 초급',\n  'ExList': '[901,929,930,904,302,59,51,49,46,304,305,302]',\n  'MainGoal': '체력향상',\n  'DetailGoal': '코어 강화',\n  'Delimiter': '복근',\n  'Level': 'Easy'},\n {'id': 81,\n  'Name': '건강한 몸매 만들기 상급',\n  'ExList': '[901,906,905,904,302,304,305,45,42,38,27,302,304,305,45,42,38,27,302,304,305,45,42,38,27]',\n  'MainGoal': '다이어트',\n  'DetailGoal': '군살 제거',\n  'Delimiter': '전신',\n  'Level': 'Hard'},\n {'id': 11,\n  'Name': '복근 만들기 중급',\n  'ExList': '[901,902,904,14,41,42,46,49,51,14,41,42,46,49,51,302]',\n  'MainGoal': '근력강화',\n  'DetailGoal': '선명한 복근',\n  'Delimiter': '복근',\n  'Level': 'Normal'},\n {'id': 12,\n  'Name': '복근 만들기 상급',\n  'ExList': '[901,902,904,54,49,59,45,54,49,59,45,304,305,306,307,302]',\n  'MainGoal': '근력강화',\n  'DetailGoal': '선명한 복근',\n  'Delimiter': '복근',\n  'Level': 'Hard'},\n {'id': 13,\n  'Name': '코어 강화 루틴 초급',\n  'ExList': '[901,902,904,47,48,56,72,73,74,77,81,306,307,302]',\n  'MainGoal': '근력강화',\n  'DetailGoal': '코어 강화',\n  'Delimiter': '복근',\n  'Level': 'Easy'},\n {'id': 1,\n  'Name': '넓은 등 만들기 초급',\n  'ExList': '[901,906,907,908,52,67,88,17,52,67,88,17]',\n  'MainGoal': '근력강화',\n  'DetailGoal': '등',\n  'Delimiter': '등',\n  'Level': 'Easy'},\n {'id': 2,\n  'Name': '넓은 등 만들기 중급',\n  'ExList': '[901,906,907,908,52,53,58,67,88,52,53,58,67,88]',\n  'MainGoal': '근력강화',\n  'DetailGoal': '등',\n  'Delimiter': '등',\n  'Level': 'Normal'},\n {'id': 3,\n  'Name': '넓은 등 만들기 상급',\n  'ExList': '[901,906,907,908,52,53,58,67,88,52,53,58,67,88,52,53,58,67,88]',\n  'MainGoal': '근력강화',\n  'DetailGoal': '등',\n  'Delimiter': '등',\n  'Level': 'Hard'},\n {'id': 4,\n  'Name': '푸쉬업 기본 동작 이해',\n  'ExList': '[904,907,908,2,18,13,2,18,13,2,18,13]',\n  'MainGoal': '근력강화',\n  'DetailGoal': '가슴',\n  'Delimiter': '가슴',\n  'Level': 'Easy'},\n {'id': 5,\n  'Name': '중급 푸쉬업 코스',\n  'ExList': '[904,907,908,21,4,13,21,4,13,1]',\n  'MainGoal': '근력강화',\n  'DetailGoal': '가슴',\n  'Delimiter': '가슴',\n  'Level': 'Normal'},\n {'id': 6,\n  'Name': '상급 푸쉬업 코스',\n  'ExList': '[904,907,908,1,4,5,15,1,4,15,1,4,15]',\n  'MainGoal': '근력강화',\n  'DetailGoal': '가슴',\n  'Delimiter': '가슴',\n  'Level': 'Hard'},\n {'id': 7,\n  'Name': '푸쉬업 기초',\n  'ExList': '[904,907,908,2,8,17,18,2,8,17,18,2]',\n  'MainGoal': '근력강화',\n  'DetailGoal': '가슴',\n  'Delimiter': '가슴',\n  'Level': 'Easy'},\n {'id': 8,\n  'Name': '푸쉬업 중급',\n  'ExList': '[904,907,908,1,2,16,12,1,2,16,12,1]',\n  'MainGoal': '근력강화',\n  'DetailGoal': '가슴',\n  'Delimiter': '가슴',\n  'Level': 'Normal'},\n {'id': 9,\n  'Name': '푸쉬업 상급',\n  'ExList': '[904,907,908,1,3,5,6,10,1,3,5,6,10]',\n  'MainGoal': '근력강화',\n  'DetailGoal': '가슴',\n  'Delimiter': '가슴',\n  'Level': 'Hard'},\n {'id': 14,\n  'Name': '코어 강화 루틴 중급',\n  'ExList': '[901,902,904,14,89,84,79,66,62,14,89,84,79,66,62,302]',\n  'MainGoal': '근력강화',\n  'DetailGoal': '코어 강화',\n  'Delimiter': '복근',\n  'Level': 'Normal'},\n {'id': 15,\n  'Name': '코어 강화 루틴 상급',\n  'ExList': '[901,902,904,44,54,59,92,93,44,54,59,92,93,304,305,306,307,302]',\n  'MainGoal': '근력강화',\n  'DetailGoal': '코어 강화',\n  'Delimiter': '복근',\n  'Level': 'Hard'},\n {'id': 16,\n  'Name': '초급 상체 루틴',\n  'ExList': '[901,906,907,908,2,58,66,2,58,66]',\n  'MainGoal': '근력강화',\n  'DetailGoal': '탄탄한 상체',\n  'Delimiter': '상체',\n  'Level': 'Easy'},\n {'id': 17,\n  'Name': '중급 상체 루틴',\n  'ExList': '[901,906,907,908,43,14,1,61,43,14,1,61]',\n  'MainGoal': '근력강화',\n  'DetailGoal': '탄탄한 상체',\n  'Delimiter': '상체',\n  'Level': 'Normal'},\n {'id': 18,\n  'Name': '상급 상체 루틴',\n  'ExList': '[901,906,907,908,6,68,45,6,68,45,1,6,68,45,1]',\n  'MainGoal': '근력강화',\n  'DetailGoal': '탄탄한 상체',\n  'Delimiter': '상체',\n  'Level': 'Hard'},\n {'id': 19,\n  'Name': '두꺼운 프레임 만들기 초급',\n  'ExList': '[904,907,908,904,2,52,16,58,2,52,16,58,2,52,16,58]',\n  'MainGoal': '근력강화',\n  'DetailGoal': '탄탄한 상체',\n  'Delimiter': '상체',\n  'Level': 'Easy'},\n {'id': 21,\n  'Name': '두꺼운 프레임 만들기 상급',\n  'ExList': '[904,907,908,904,1,67,4,53,5,58,1,67,4,53,5,58]',\n  'MainGoal': '근력강화',\n  'DetailGoal': '탄탄한 상체',\n  'Delimiter': '상체',\n  'Level': 'Hard'},\n {'id': 22,\n  'Name': '상체 프레임 만들기 초급',\n  'ExList': '[904,907,908,904,2,16,52,58,2,16,52,58,2,16,52,58]',\n  'MainGoal': '근력강화',\n  'DetailGoal': '탄탄한 상체',\n  'Delimiter': '상체',\n  'Level': 'Easy'},\n {'id': 23,\n  'Name': '상체 프레임 만들기 중급',\n  'ExList': '[904,907,908,904,1,4,52,58,1,4,52,58,1,4,52,58]',\n  'MainGoal': '근력강화',\n  'DetailGoal': '탄탄한 상체',\n  'Delimiter': '상체',\n  'Level': 'Normal'},\n {'id': 24,\n  'Name': '상체 프레임 만들기 상급',\n  'ExList': '[904,907,908,904,1,4,5,67,53,58,1,4,5,67,53,58]',\n  'MainGoal': '근력강화',\n  'DetailGoal': '탄탄한 상체',\n  'Delimiter': '상체',\n  'Level': 'Hard'},\n {'id': 25,\n  'Name': '상체 강화 루틴 초급',\n  'ExList': '[901,904,903,907,908,2,13,17,47,72,81,80,2,13,17,47,72,81,80]',\n  'MainGoal': '근력강화',\n  'DetailGoal': '탄탄한 상체',\n  'Delimiter': '상체',\n  'Level': 'Easy'},\n {'id': 26,\n  'Name': '상체 강화 루틴 중급',\n  'ExList': '[901,904,903,907,908,1,16,52,51,49,46,58,61,1,16,52,51,49,46,58,61]',\n  'MainGoal': '근력강화',\n  'DetailGoal': '탄탄한 상체',\n  'Delimiter': '상체',\n  'Level': 'Normal'},\n {'id': 27,\n  'Name': '상체 강화 루틴 상급',\n  'ExList': '[901,904,903,907,908,16,5,11,45,58,61,52,49,16,5,11,45,58,61,52,49]',\n  'MainGoal': '근력강화',\n  'DetailGoal': '탄탄한 상체',\n  'Delimiter': '상체',\n  'Level': 'Hard'},\n {'id': 28,\n  'Name': '초급 하체 루틴',\n  'ExList': '[909,910,911,912,915,916,25,76,82,65,25,76 ,82,65,25,76 ,82,65]',\n  'MainGoal': '근력강화',\n  'DetailGoal': '탄탄한 하체',\n  'Delimiter': '하체',\n  'Level': 'Easy'},\n {'id': 29,\n  'Name': '중급 하체 루틴',\n  'ExList': '[909,910,911,912,915,916,20,25,28,60,43,20,25,28,60,43,20,25,28,60,43]',\n  'MainGoal': '근력강화',\n  'DetailGoal': '탄탄한 하체',\n  'Delimiter': '하체',\n  'Level': 'Normal'},\n {'id': 30,\n  'Name': '상급 하체 루틴',\n  'ExList': '[909,910,911,912,915,916,25,26,36,98,99,303,25,26,36,98,99,303,25,26,36,98,99,303]',\n  'MainGoal': '근력강화',\n  'DetailGoal': '탄탄한 하체',\n  'Delimiter': '하체',\n  'Level': 'Hard'},\n {'id': 31,\n  'Name': '스쿼트 모음 초급 ',\n  'ExList': '[905,909,910,911,912,25,29,27,31,25,29,27,31,28]',\n  'MainGoal': '근력강화',\n  'DetailGoal': '탄탄한 하체',\n  'Delimiter': '하체',\n  'Level': 'Easy'},\n {'id': 32,\n  'Name': '스쿼트 모음 중급',\n  'ExList': '[905,909,910,911,912,25,27,28,32,102,103,25,27,28,32,102,103,303]',\n  'MainGoal': '근력강화',\n  'DetailGoal': '탄탄한 하체',\n  'Delimiter': '하체',\n  'Level': 'Normal'},\n {'id': 33,\n  'Name': '스쿼트 모음 상급',\n  'ExList': '[905,909,910,911,912,303,25,26,28,25,26,28,25,26,28,30,303]',\n  'MainGoal': '근력강화',\n  'DetailGoal': '탄탄한 하체',\n  'Delimiter': '하체',\n  'Level': 'Hard'},\n {'id': 34,\n  'Name': '스쿼트/런지 입문하기',\n  'ExList': '[905,909,910,911,912,933,934,20,25,22,26,20,25,22,26,20,25,22,26]',\n  'MainGoal': '근력강화',\n  'DetailGoal': '탄탄한 하체',\n  'Delimiter': '하체',\n  'Level': 'Easy'},\n {'id': 35,\n  'Name': '중급 스쿼트/런지 세트',\n  'ExList': '[905,909,910,911,912,933,934,20,25,21,28,20,25,21,28,303]',\n  'MainGoal': '근력강화',\n  'DetailGoal': '탄탄한 하체',\n  'Delimiter': '하체',\n  'Level': 'Normal'},\n {'id': 36,\n  'Name': '고급 스쿼트/런지 세트',\n  'ExList': '[905,909,910,911,912,933,934,20,25,100,101,102,103,100,101,102,103]',\n  'MainGoal': '근력강화',\n  'DetailGoal': '탄탄한 하체',\n  'Delimiter': '하체',\n  'Level': 'Hard'},\n {'id': 37,\n  'Name': '하체 강화 첫걸음',\n  'ExList': '[905,909,910,911,912,933,934,20,22,25,26,29,20,22,25,26,29]',\n  'MainGoal': '근력강화',\n  'DetailGoal': '탄탄한 하체',\n  'Delimiter': '하체',\n  'Level': 'Easy'},\n {'id': 39,\n  'Name': '상급 하체 강화',\n  'ExList': '[905,909,910,911,912,933,934,23,28,96,97,100,101,23,28,96,97,100,101,303,303]',\n  'MainGoal': '근력강화',\n  'DetailGoal': '탄탄한 하체',\n  'Delimiter': '하체',\n  'Level': 'Hard'},\n {'id': 40,\n  'Name': '허벅지 근력 키우기 초급',\n  'ExList': '[905,909,910,933,934,935,936,20,82,98,99,20,82,98,99,20,82,98,99]',\n  'MainGoal': '근력향상',\n  'DetailGoal': '탄탄한 하체',\n  'Delimiter': '하체 ',\n  'Level': 'Easy'},\n {'id': 41,\n  'Name': '허벅지 근력 키우기 중급',\n  'ExList': '[905,909,910,933,934,935,936,20,21,22,36,20,21,22,36,20,21,22,36]',\n  'MainGoal': '근력향상',\n  'DetailGoal': '탄탄한 하체',\n  'Delimiter': '하체 ',\n  'Level': 'Normal'},\n {'id': 42,\n  'Name': '허벅지 근력 키우기 상급',\n  'ExList': '[905,909,910,933,934,935,936,21,22,23,25,100,101,21,22,23,25,100,101,21,22,23,25,100,101]',\n  'MainGoal': '근력향상',\n  'DetailGoal': '탄탄한 하체',\n  'Delimiter': '하체 ',\n  'Level': 'Hard'},\n {'id': 43,\n  'Name': '애플힙 만들기 초급',\n  'ExList': '[905,909,910,911,912,25,28,35,98,99,25,28,35,98,99]',\n  'MainGoal': '근력강화',\n  'DetailGoal': '힙업 및 애플힙',\n  'Delimiter': '엉덩이',\n  'Level': 'Easy'},\n {'id': 44,\n  'Name': '애플힙 만들기 중급',\n  'ExList': '[905,909,910,911,912,25,26,20,98,99,25,26,20,98,99,25,26,20,98,99]',\n  'MainGoal': '근력강화',\n  'DetailGoal': '힙업 및 애플힙',\n  'Delimiter': '엉덩이',\n  'Level': 'Normal'},\n {'id': 45,\n  'Name': '애플힙 만들기 상급',\n  'ExList': '[905,909,910,911,912,25,39,26,98,99,303,25,39,26,98,99,303,25,39,26,98,99,303]',\n  'MainGoal': '근력강화',\n  'DetailGoal': '힙업 및 애플힙',\n  'Delimiter': '엉덩이',\n  'Level': 'Hard'},\n {'id': 46,\n  'Name': '멋진 하체 만들기 초급',\n  'ExList': '[905,909,910,911,912,25,20,82,25,20,82,25,20,82]',\n  'MainGoal': '근력강화',\n  'DetailGoal': '힙업 및 애플힙',\n  'Delimiter': '엉덩이',\n  'Level': 'Easy'},\n {'id': 47,\n  'Name': '멋진 하체 만들기 중급',\n  'ExList': '[905,909,910,911,912,20,22,23,28,50,20,22,23,28,50]',\n  'MainGoal': '근력강화',\n  'DetailGoal': '힙업 및 애플힙',\n  'Delimiter': '엉덩이',\n  'Level': 'Normal'},\n {'id': 48,\n  'Name': '멋진 하체 만들기 상급',\n  'ExList': '[905,909,910,911,912,303,28,26,102,103,28,26,102,103,28,26,102,103,303]',\n  'MainGoal': '근력강화',\n  'DetailGoal': '힙업 및 애플힙',\n  'Delimiter': '엉덩이',\n  'Level': 'Hard'},\n {'id': 49,\n  'Name': '힙업 프로젝트 초급',\n  'ExList': '[905,931,932,909,910,25,98,99,29,25,98,99,29,25,98,99,29,303]',\n  'MainGoal': '근력향상',\n  'DetailGoal': '힙업 및 애플힙',\n  'Delimiter': '엉덩이',\n  'Level': 'Easy'},\n {'id': 50,\n  'Name': '힙업 프로젝트 중급',\n  'ExList': '[905,931,932,909,910,25,40,35,28,98,99,25,40,35,28,98,9925,40,35,28,98,99,303]',\n  'MainGoal': '근력향상',\n  'DetailGoal': '힙업 및 애플힙',\n  'Delimiter': '엉덩이',\n  'Level': 'Normal'},\n {'id': 51,\n  'Name': '힙업 프로젝트 상급',\n  'ExList': '[905,931,932,909,910,20,25,100,101,102,103,21,303,20,25,100,101,102,103,21,303,20,25,100,101,102,103,21,303]',\n  'MainGoal': '근력향상',\n  'DetailGoal': '힙업 및 애플힙',\n  'Delimiter': '엉덩이',\n  'Level': 'Hard'},\n {'id': 52,\n  'Name': '스쿼트/푸쉬업 입문하기',\n  'ExList': '[935,936,909,910,903,907,908,2,25,8,28,17,27,2,25,8,28,17,27]',\n  'MainGoal': '근력강화',\n  'DetailGoal': '균형 잡힌 라인',\n  'Delimiter': '전신',\n  'Level': 'Easy'},\n {'id': 53,\n  'Name': '중급 스쿼트/푸쉬업 세트',\n  'ExList': '[935,936,909,910,903,907,908,1,25,16,26,4,26,1,25,16,26,4,26]',\n  'MainGoal': '근력강화',\n  'DetailGoal': '균형 잡힌 라인',\n  'Delimiter': '전신',\n  'Level': 'Normal'},\n {'id': 54,\n  'Name': '고급 스쿼트/푸쉬업 세트',\n  'ExList': '[935,936,909,910,903,907,908,1,25,3,28,6,27,1,25,3,28,6,27,4,303]',\n  'MainGoal': '근력강화',\n  'DetailGoal': '균형 잡힌 라인',\n  'Delimiter': '전신',\n  'Level': 'Hard'},\n {'id': 55,\n  'Name': '전신 근력 향상 초급',\n  'ExList': '[909,910,931,932,903,907,908,1,51,49,44,14,25,1,51,49,44,14,25]',\n  'MainGoal': '근력강화',\n  'DetailGoal': '균형 잡힌 라인',\n  'Delimiter': '전신',\n  'Level': 'Easy'},\n {'id': 57,\n  'Name': '전신 근력 향상 상급',\n  'ExList': '[909,910,931,932,903,907,908,5,6,59,25,100,101,5,6,59,25,100,101]',\n  'MainGoal': '근력강화',\n  'DetailGoal': '균형 잡힌 라인',\n  'Delimiter': '전신',\n  'Level': 'Hard'},\n {'id': 58,\n  'Name': '상체근력 및 체력강화 초급',\n  'ExList': '[901,909,910,65,41,42,51,65,41,42,51]',\n  'MainGoal': '체력향상',\n  'DetailGoal': '균형 잡힌 라인',\n  'Delimiter': '상체 근력 및 유산소',\n  'Level': 'Easy'},\n {'id': 60,\n  'Name': '상체근력 및 체력강화 상급',\n  'ExList': '[901,909,910,45,42,302,45,42,302,45,42,302]',\n  'MainGoal': '체력향상',\n  'DetailGoal': '균형 잡힌 라인',\n  'Delimiter': '상체 근력 및 유산소',\n  'Level': 'Hard'},\n {'id': 61,\n  'Name': '가슴 및 체력 키우기 초급',\n  'ExList': '[903,904,905,909,910,27,42,65,71,8,18,17,27,42,65,71]',\n  'MainGoal': '체력향상',\n  'DetailGoal': '균형 잡힌 라인',\n  'Delimiter': '상체 근력 및 유산소',\n  'Level': 'Easy'},\n {'id': 62,\n  'Name': '가슴 및 체력 키우기 중급',\n  'ExList': '[903,904,905,909,910,45,64,71,48,1,4,12,16,45,64,71,48]',\n  'MainGoal': '체력향상',\n  'DetailGoal': '균형 잡힌 라인',\n  'Delimiter': '상체 근력 및 유산소',\n  'Level': 'Normal'},\n {'id': 63,\n  'Name': '가슴 및 체력 키우기 상급',\n  'ExList': '[903,904,905,909,910,64,45,42,68,1,4,16,15,64,45,42,68]',\n  'MainGoal': '체력향상',\n  'DetailGoal': '균형 잡힌 라인',\n  'Delimiter': '상체 근력 및 유산소',\n  'Level': 'Hard'},\n {'id': 64,\n  'Name': '힙업과 군살 제거 초급',\n  'ExList': '[905,931,932,909,910,25,45,98,99,42,65,29,25,45,98,99,42,65,29,25,45,98,99,42,65,29]',\n  'MainGoal': '체력향상',\n  'DetailGoal': '균형 잡힌 라인',\n  'Delimiter': '하체 근력 및 유산소',\n  'Level': 'Easy'},\n {'id': 66,\n  'Name': '힙업과 군살 제거 상급',\n  'ExList': '[905,931,932,909,910,20,71,25,24,100,101,45,102,103,40,20,71,25,24,100,101,45,102,103,40,20,71,25,24,100,101,45,102,103,40]',\n  'MainGoal': '체력향상',\n  'DetailGoal': '균형 잡힌 라인',\n  'Delimiter': '하체 근력 및 유산소',\n  'Level': 'Hard'},\n {'id': 67,\n  'Name': '하체 근력 및 체력 향상 초급',\n  'ExList': '[905,909,910,933,934,935,936,20,82,98,99,20,82,98,99,42,45,64,47,42,45,64,47]',\n  'MainGoal': '체력향상',\n  'DetailGoal': '균형 잡힌 라인',\n  'Delimiter': '하체 근력 및 유산소',\n  'Level': 'Easy'},\n {'id': 68,\n  'Name': '하체 근력 및 체력 향상 중급',\n  'ExList': '[905,909,910,933,934,935,936,20,21,22,36,20,21,22,36,42,45,64,47,42,45,64,47]',\n  'MainGoal': '체력향상',\n  'DetailGoal': '균형 잡힌 라인',\n  'Delimiter': '하체 근력 및 유산소',\n  'Level': 'Normal'},\n {'id': 69,\n  'Name': '하체 근력 및 체력 향상 상급',\n  'ExList': '[905,909,910,933,934,935,936,21,22,23,25,100,101,21,22,23,25,100,101,42,45,64,47,42,45,64,47] ',\n  'MainGoal': '체력향상',\n  'DetailGoal': '균형 잡힌 라인',\n  'Delimiter': '하체 근력 및 유산소',\n  'Level': 'Hard'},\n {'id': 71,\n  'Name': '전신 체력향상 중급',\n  'ExList': '[903,904,905,939,940,14,27,47,65,71,42,68,14,27,47,65,71,42,68,14,27,47,65,71,42,68]',\n  'MainGoal': '체력향상',\n  'DetailGoal': '균형 잡힌 라인',\n  'Delimiter': '전신',\n  'Level': 'Normal'},\n {'id': 72,\n  'Name': '전신 체력향상 상급',\n  'ExList': '[903,904,905,939,940,14,27,42,68,24,45,38,14,27,42,68,24,45,38,14,27,42,68,24,45,38]',\n  'MainGoal': '체력향상',\n  'DetailGoal': '균형 잡힌 라인',\n  'Delimiter': '전신',\n  'Level': 'Hard'},\n {'id': 73,\n  'Name': '심폐지구력 향상 초급',\n  'ExList': '[903,904,905,939,940,64,27,60,30,45,42,64,27,60,30,45,42]',\n  'MainGoal': '다이어트',\n  'DetailGoal': '심페지구력 향상',\n  'Delimiter': '유산소',\n  'Level': 'Easy'},\n {'id': 74,\n  'Name': '심폐지구력 향상 중급',\n  'ExList': '[903,904,905,939,940,64,27,60,30,45,42,94,95,44,64,27,60,30,45,42,94,95,44]',\n  'MainGoal': '다이어트',\n  'DetailGoal': '심페지구력 향상',\n  'Delimiter': '유산소',\n  'Level': 'Normal'},\n {'id': 75,\n  'Name': '심폐지구력 향상 상급',\n  'ExList': '[903,904,905,939,940,64,27,60,30,45,42,94,95,44,64,27,60,30,45,42,94,95,44,64,27,60,30,45,42,94,95,44]',\n  'MainGoal': '다이어트',\n  'DetailGoal': '심페지구력 향상',\n  'Delimiter': '유산소',\n  'Level': 'Hard'},\n {'id': 84,\n  'Name': '다이어트를 쉽고 재밌게! 상급',\n  'ExList': '[901,906,905,904,27,38,42,45,30,87,96,97,27,38,42,45,30,87,96,97,27,38,42,45,30,87,96,97]',\n  'MainGoal': '다이어트',\n  'DetailGoal': '군살 제거',\n  'Delimiter': '전신',\n  'Level': 'Hard'},\n {'id': 83,\n  'Name': '다이어트를 쉽고 재밌게! 중급',\n  'ExList': '[901,906,905,904,27,38,42,45,30,27,38,42,45,30,27,38,42,45,30]',\n  'MainGoal': '다이어트',\n  'DetailGoal': '군살 제거',\n  'Delimiter': '전신',\n  'Level': 'Normal'},\n {'id': 82,\n  'Name': '다이어트를 쉽고 재밌게! 초급',\n  'ExList': '[901,906,905,904,38,40,43,85,71,75,38,40,43,85,71,75,38,40,43,85,71,75]',\n  'MainGoal': '다이어트',\n  'DetailGoal': '군살 제거',\n  'Delimiter': '전신',\n  'Level': 'Easy'},\n {'id': 80,\n  'Name': '건강한 몸매 만들기 중급',\n  'ExList': '[901,906,905,904,302,304,305,55,43,42,27,302,304,305,55,43,42,27]',\n  'MainGoal': '다이어트',\n  'DetailGoal': '군살 제거',\n  'Delimiter': '전신',\n  'Level': 'Normal'},\n {'id': 79,\n  'Name': '건강한 몸매 만들기 초급',\n  'ExList': '[901,906,905,904,302,55,38,28,302,55,38,28,302,55,38,28]',\n  'MainGoal': '다이어트',\n  'DetailGoal': '군살 제거',\n  'Delimiter': '전신',\n  'Level': 'Easy'},\n {'id': 78,\n  'Name': '나의 체력 키우기 상급',\n  'ExList': '[915,916,902,903,904,905,44,94,95,42,45,30,60,27,64,44,94,95,42,45,30,60,27,64,44,94,95,42,45,30,60,27,64]',\n  'MainGoal': '다이어트',\n  'DetailGoal': '심페지구력 향상',\n  'Delimiter': '유산소',\n  'Level': 'Hard'},\n {'id': 77,\n  'Name': '나의 체력 키우기 중급',\n  'ExList': '[915,916,902,903,904,905,44,94,95,42,45,30,60,27,64,44,94,95,42,45,30,60,27,64]',\n  'MainGoal': '다이어트',\n  'DetailGoal': '심페지구력 향상',\n  'Delimiter': '유산소',\n  'Level': 'Normal'},\n {'id': 76,\n  'Name': '나의 체력 키우기 초급',\n  'ExList': '[915,916,902,903,904,905,42,45,30,60,27,64,42,45,30,60,27,64]',\n  'MainGoal': '다이어트',\n  'DetailGoal': '심페지구력 향상',\n  'Delimiter': '유산소',\n  'Level': 'Easy'},\n {'id': 89,\n  'Name': '멋있는 복근 만들기 중급',\n  'ExList': '[901,929,930,904,14,49,46,51,47,44,14,49,46,51,47,44,302]',\n  'MainGoal': '체력향상',\n  'DetailGoal': '선명한 복근',\n  'Delimiter': '복근',\n  'Level': 'Normal'},\n {'id': 90,\n  'Name': '멋있는 복근 만들기 상급',\n  'ExList': '[901,929,930,904,302,306,307,49,62,42,302,306,307,49,62,42,302,306,307,49,62,42]',\n  'MainGoal': '체력향상',\n  'DetailGoal': '선명한 복근',\n  'Delimiter': '복근',\n  'Level': 'Hard'},\n {'id': 91,\n  'Name': '균형 있는 몸 만들기 초급',\n  'ExList': '[915,916,902,903,904,905,2,48,25,64,20,74,2,48,25,64,20,74,2,48,25,64,20,74]',\n  'MainGoal': '체력향상',\n  'DetailGoal': '심페지구력 향상',\n  'Delimiter': '유산소',\n  'Level': 'Easy'},\n {'id': 93,\n  'Name': '균형 있는 몸 만들기 상급',\n  'ExList': '[915,916,902,903,904,905,3,45,67,30,61,42,3,45,67,30,61,42,3,45,67,30,61,42,303]',\n  'MainGoal': '체력향상',\n  'DetailGoal': '심페지구력 향상',\n  'Delimiter': '유산소',\n  'Level': 'Hard'},\n {'id': 94,\n  'Name': '등 근육 만들기 초급',\n  'ExList': '[901,906,907,908,17,88,67,52,17,88,67,52,17,88,67,52]',\n  'MainGoal': '근력강화',\n  'DetailGoal': '등',\n  'Delimiter': '등',\n  'Level': 'Easy'},\n {'id': 95,\n  'Name': '등 근육 만들기 중급',\n  'ExList': '[901,906,907,908,88,67,58,52,53,88,67,58,52,53]',\n  'MainGoal': '근력강화',\n  'DetailGoal': '등',\n  'Delimiter': '등',\n  'Level': 'Normal'},\n {'id': 96,\n  'Name': '등 근육 만들기 상급',\n  'ExList': '[901,906,907,908,88,67,58,52,53,88,67,58,52,53,88,67,58,52,53]',\n  'MainGoal': '근력강화',\n  'DetailGoal': '등',\n  'Delimiter': '등',\n  'Level': 'Hard'},\n {'id': 97,\n  'Name': '근력과 유산소를 동시에! 초급',\n  'ExList': '[915,916,902,903,904,905,2,58,49,25,20,64,42,2,58,49,25,20,64,42]',\n  'MainGoal': '다이어트',\n  'DetailGoal': '심페지구력 향상',\n  'Delimiter': '전신 ',\n  'Level': 'Easy'},\n {'id': 87,\n  'Name': '강력한 코어 만들기 상급',\n  'ExList': '[901,929,930,904,302,304,305,306,307,301,62,49,302]',\n  'MainGoal': '체력향상',\n  'DetailGoal': '코어 강화',\n  'Delimiter': '복근',\n  'Level': 'Hard'},\n {'id': 98,\n  'Name': '근력과 유산소를 동시에! 중급',\n  'ExList': '[915,916,902,903,904,905,1,52,49,28,98,99,1,52,49,28,98,99]',\n  'MainGoal': '다이어트',\n  'DetailGoal': '심페지구력 향상',\n  'Delimiter': '전신',\n  'Level': 'Normal'},\n {'id': 99,\n  'Name': '근력과 유산소를 동시에! 상급',\n  'ExList': '[915,916,902,903,904,905,1,27,28,52,67,62,66,3,45,42,59,302]',\n  'MainGoal': '다이어트',\n  'DetailGoal': '심페지구력 향상',\n  'Delimiter': '전신',\n  'Level': 'Hard'},\n {'id': 20,\n  'Name': '두꺼운 프레임 만들기 중급',\n  'ExList': '[904,907,908,904,1,52,4,58,1,52,4,58,1,52,4,58]',\n  'MainGoal': '근력강화',\n  'DetailGoal': '탄탄한 상체',\n  'Delimiter': '상체',\n  'Level': 'Normal'},\n {'id': 38,\n  'Name': '중급 하체 강화',\n  'ExList': '[905,909,910,911,912,933,934,25,26,27,20,28,25,26,27,20,28,303]',\n  'MainGoal': '근력강화',\n  'DetailGoal': '탄탄한 하체',\n  'Delimiter': '하체',\n  'Level': 'Normal'},\n {'id': 56,\n  'Name': '전신 근력 향상 중급',\n  'ExList': '[909,910,931,932,903,907,908,25,42,14,52,1,25,42,14,52,1,25,42,14,52,1]',\n  'MainGoal': '근력강화',\n  'DetailGoal': '균형 잡힌 라인',\n  'Delimiter': '전신',\n  'Level': 'Normal'},\n {'id': 70,\n  'Name': '전신 체력향상 초급',\n  'ExList': '[903,904,905,939,940,14,13,27,47,65,71,14,13,27,47,65,71,14,13,27,47,65,71]',\n  'MainGoal': '체력향상',\n  'DetailGoal': '균형 잡힌 라인',\n  'Delimiter': '전신',\n  'Level': 'Easy'},\n {'id': 88,\n  'Name': '멋있는 복근 만들기 초급',\n  'ExList': '[901,929,930,904,47,48,74,51,42,49,46,302]',\n  'MainGoal': '체력향상',\n  'DetailGoal': '선명한 복근',\n  'Delimiter': '복근',\n  'Level': 'Easy'},\n {'id': 92,\n  'Name': '균형 있는 몸 만들기 중급',\n  'ExList': '[915,916,902,903,904,905,1,27,49,40,61,302,58,85,1,27,49,40,61,302,58,85]',\n  'MainGoal': '체력향상',\n  'DetailGoal': '심페지구력 향상',\n  'Delimiter': '유산소',\n  'Level': 'Normal'}]"
     },
     "execution_count": 15,
     "metadata": {},
     "output_type": "execute_result"
    }
   ],
   "source": [
    "new_dict"
   ],
   "metadata": {
    "collapsed": false,
    "ExecuteTime": {
     "end_time": "2024-08-13T02:09:47.092899Z",
     "start_time": "2024-08-13T02:09:47.081367Z"
    }
   },
   "id": "fd1ff9208eed1a87",
   "execution_count": 15
  },
  {
   "cell_type": "code",
   "outputs": [
    {
     "name": "stdout",
     "output_type": "stream",
     "text": [
      "[{'id': 86, 'Name': '강력한 코어 만들기 중급', 'ExList': '{901,929,930,904,302,304,305,306,307,68,42,302}', 'MainGoal': '체력향상', 'DetailGoal': '코어 강화', 'Delimiter': '복근', 'Level': 'Normal'}, {'id': 10, 'Name': '복근 만들기 초급', 'ExList': '{901,902,904,47,48,56,72,74,47,48,56,72,74,301}', 'MainGoal': '근력강화', 'DetailGoal': '선명한 복근', 'Delimiter': '복근', 'Level': 'Easy'}, {'id': 59, 'Name': '상체근력 및 체력강화 중급', 'ExList': '{901,909,910,42,68,55,302,45}', 'MainGoal': '체력향상', 'DetailGoal': '균형 잡힌 라인', 'Delimiter': '상체 근력 및 유산소', 'Level': 'Normal'}, {'id': 65, 'Name': '힙업과 군살 제거 중급', 'ExList': '{905,931,932,909,910,25,39,40,85,35,42,28,64,25,39,40,85,35,42,28,64,25,39,40,85,35,42,28,64}', 'MainGoal': '체력향상', 'DetailGoal': '균형 잡힌 라인', 'Delimiter': '하체 근력 및 유산소', 'Level': 'Normal'}, {'id': 85, 'Name': '강력한 코어 만들기 초급', 'ExList': '{901,929,930,904,302,59,51,49,46,304,305,302}', 'MainGoal': '체력향상', 'DetailGoal': '코어 강화', 'Delimiter': '복근', 'Level': 'Easy'}, {'id': 81, 'Name': '건강한 몸매 만들기 상급', 'ExList': '{901,906,905,904,302,304,305,45,42,38,27,302,304,305,45,42,38,27,302,304,305,45,42,38,27}', 'MainGoal': '다이어트', 'DetailGoal': '군살 제거', 'Delimiter': '전신', 'Level': 'Hard'}, {'id': 11, 'Name': '복근 만들기 중급', 'ExList': '{901,902,904,14,41,42,46,49,51,14,41,42,46,49,51,302}', 'MainGoal': '근력강화', 'DetailGoal': '선명한 복근', 'Delimiter': '복근', 'Level': 'Normal'}, {'id': 12, 'Name': '복근 만들기 상급', 'ExList': '{901,902,904,54,49,59,45,54,49,59,45,304,305,306,307,302}', 'MainGoal': '근력강화', 'DetailGoal': '선명한 복근', 'Delimiter': '복근', 'Level': 'Hard'}, {'id': 13, 'Name': '코어 강화 루틴 초급', 'ExList': '{901,902,904,47,48,56,72,73,74,77,81,306,307,302}', 'MainGoal': '근력강화', 'DetailGoal': '코어 강화', 'Delimiter': '복근', 'Level': 'Easy'}, {'id': 1, 'Name': '넓은 등 만들기 초급', 'ExList': '{901,906,907,908,52,67,88,17,52,67,88,17}', 'MainGoal': '근력강화', 'DetailGoal': '등', 'Delimiter': '등', 'Level': 'Easy'}, {'id': 2, 'Name': '넓은 등 만들기 중급', 'ExList': '{901,906,907,908,52,53,58,67,88,52,53,58,67,88}', 'MainGoal': '근력강화', 'DetailGoal': '등', 'Delimiter': '등', 'Level': 'Normal'}, {'id': 3, 'Name': '넓은 등 만들기 상급', 'ExList': '{901,906,907,908,52,53,58,67,88,52,53,58,67,88,52,53,58,67,88}', 'MainGoal': '근력강화', 'DetailGoal': '등', 'Delimiter': '등', 'Level': 'Hard'}, {'id': 4, 'Name': '푸쉬업 기본 동작 이해', 'ExList': '{904,907,908,2,18,13,2,18,13,2,18,13}', 'MainGoal': '근력강화', 'DetailGoal': '가슴', 'Delimiter': '가슴', 'Level': 'Easy'}, {'id': 5, 'Name': '중급 푸쉬업 코스', 'ExList': '{904,907,908,21,4,13,21,4,13,1}', 'MainGoal': '근력강화', 'DetailGoal': '가슴', 'Delimiter': '가슴', 'Level': 'Normal'}, {'id': 6, 'Name': '상급 푸쉬업 코스', 'ExList': '{904,907,908,1,4,5,15,1,4,15,1,4,15}', 'MainGoal': '근력강화', 'DetailGoal': '가슴', 'Delimiter': '가슴', 'Level': 'Hard'}, {'id': 7, 'Name': '푸쉬업 기초', 'ExList': '{904,907,908,2,8,17,18,2,8,17,18,2}', 'MainGoal': '근력강화', 'DetailGoal': '가슴', 'Delimiter': '가슴', 'Level': 'Easy'}, {'id': 8, 'Name': '푸쉬업 중급', 'ExList': '{904,907,908,1,2,16,12,1,2,16,12,1}', 'MainGoal': '근력강화', 'DetailGoal': '가슴', 'Delimiter': '가슴', 'Level': 'Normal'}, {'id': 9, 'Name': '푸쉬업 상급', 'ExList': '{904,907,908,1,3,5,6,10,1,3,5,6,10}', 'MainGoal': '근력강화', 'DetailGoal': '가슴', 'Delimiter': '가슴', 'Level': 'Hard'}, {'id': 14, 'Name': '코어 강화 루틴 중급', 'ExList': '{901,902,904,14,89,84,79,66,62,14,89,84,79,66,62,302}', 'MainGoal': '근력강화', 'DetailGoal': '코어 강화', 'Delimiter': '복근', 'Level': 'Normal'}, {'id': 15, 'Name': '코어 강화 루틴 상급', 'ExList': '{901,902,904,44,54,59,92,93,44,54,59,92,93,304,305,306,307,302}', 'MainGoal': '근력강화', 'DetailGoal': '코어 강화', 'Delimiter': '복근', 'Level': 'Hard'}, {'id': 16, 'Name': '초급 상체 루틴', 'ExList': '{901,906,907,908,2,58,66,2,58,66}', 'MainGoal': '근력강화', 'DetailGoal': '탄탄한 상체', 'Delimiter': '상체', 'Level': 'Easy'}, {'id': 17, 'Name': '중급 상체 루틴', 'ExList': '{901,906,907,908,43,14,1,61,43,14,1,61}', 'MainGoal': '근력강화', 'DetailGoal': '탄탄한 상체', 'Delimiter': '상체', 'Level': 'Normal'}, {'id': 18, 'Name': '상급 상체 루틴', 'ExList': '{901,906,907,908,6,68,45,6,68,45,1,6,68,45,1}', 'MainGoal': '근력강화', 'DetailGoal': '탄탄한 상체', 'Delimiter': '상체', 'Level': 'Hard'}, {'id': 19, 'Name': '두꺼운 프레임 만들기 초급', 'ExList': '{904,907,908,904,2,52,16,58,2,52,16,58,2,52,16,58}', 'MainGoal': '근력강화', 'DetailGoal': '탄탄한 상체', 'Delimiter': '상체', 'Level': 'Easy'}, {'id': 21, 'Name': '두꺼운 프레임 만들기 상급', 'ExList': '{904,907,908,904,1,67,4,53,5,58,1,67,4,53,5,58}', 'MainGoal': '근력강화', 'DetailGoal': '탄탄한 상체', 'Delimiter': '상체', 'Level': 'Hard'}, {'id': 22, 'Name': '상체 프레임 만들기 초급', 'ExList': '{904,907,908,904,2,16,52,58,2,16,52,58,2,16,52,58}', 'MainGoal': '근력강화', 'DetailGoal': '탄탄한 상체', 'Delimiter': '상체', 'Level': 'Easy'}, {'id': 23, 'Name': '상체 프레임 만들기 중급', 'ExList': '{904,907,908,904,1,4,52,58,1,4,52,58,1,4,52,58}', 'MainGoal': '근력강화', 'DetailGoal': '탄탄한 상체', 'Delimiter': '상체', 'Level': 'Normal'}, {'id': 24, 'Name': '상체 프레임 만들기 상급', 'ExList': '{904,907,908,904,1,4,5,67,53,58,1,4,5,67,53,58}', 'MainGoal': '근력강화', 'DetailGoal': '탄탄한 상체', 'Delimiter': '상체', 'Level': 'Hard'}, {'id': 25, 'Name': '상체 강화 루틴 초급', 'ExList': '{901,904,903,907,908,2,13,17,47,72,81,80,2,13,17,47,72,81,80}', 'MainGoal': '근력강화', 'DetailGoal': '탄탄한 상체', 'Delimiter': '상체', 'Level': 'Easy'}, {'id': 26, 'Name': '상체 강화 루틴 중급', 'ExList': '{901,904,903,907,908,1,16,52,51,49,46,58,61,1,16,52,51,49,46,58,61}', 'MainGoal': '근력강화', 'DetailGoal': '탄탄한 상체', 'Delimiter': '상체', 'Level': 'Normal'}, {'id': 27, 'Name': '상체 강화 루틴 상급', 'ExList': '{901,904,903,907,908,16,5,11,45,58,61,52,49,16,5,11,45,58,61,52,49}', 'MainGoal': '근력강화', 'DetailGoal': '탄탄한 상체', 'Delimiter': '상체', 'Level': 'Hard'}, {'id': 28, 'Name': '초급 하체 루틴', 'ExList': '{909,910,911,912,915,916,25,76,82,65,25,76 ,82,65,25,76 ,82,65}', 'MainGoal': '근력강화', 'DetailGoal': '탄탄한 하체', 'Delimiter': '하체', 'Level': 'Easy'}, {'id': 29, 'Name': '중급 하체 루틴', 'ExList': '{909,910,911,912,915,916,20,25,28,60,43,20,25,28,60,43,20,25,28,60,43}', 'MainGoal': '근력강화', 'DetailGoal': '탄탄한 하체', 'Delimiter': '하체', 'Level': 'Normal'}, {'id': 30, 'Name': '상급 하체 루틴', 'ExList': '{909,910,911,912,915,916,25,26,36,98,99,303,25,26,36,98,99,303,25,26,36,98,99,303}', 'MainGoal': '근력강화', 'DetailGoal': '탄탄한 하체', 'Delimiter': '하체', 'Level': 'Hard'}, {'id': 31, 'Name': '스쿼트 모음 초급 ', 'ExList': '{905,909,910,911,912,25,29,27,31,25,29,27,31,28}', 'MainGoal': '근력강화', 'DetailGoal': '탄탄한 하체', 'Delimiter': '하체', 'Level': 'Easy'}, {'id': 32, 'Name': '스쿼트 모음 중급', 'ExList': '{905,909,910,911,912,25,27,28,32,102,103,25,27,28,32,102,103,303}', 'MainGoal': '근력강화', 'DetailGoal': '탄탄한 하체', 'Delimiter': '하체', 'Level': 'Normal'}, {'id': 33, 'Name': '스쿼트 모음 상급', 'ExList': '{905,909,910,911,912,303,25,26,28,25,26,28,25,26,28,30,303}', 'MainGoal': '근력강화', 'DetailGoal': '탄탄한 하체', 'Delimiter': '하체', 'Level': 'Hard'}, {'id': 34, 'Name': '스쿼트/런지 입문하기', 'ExList': '{905,909,910,911,912,933,934,20,25,22,26,20,25,22,26,20,25,22,26}', 'MainGoal': '근력강화', 'DetailGoal': '탄탄한 하체', 'Delimiter': '하체', 'Level': 'Easy'}, {'id': 35, 'Name': '중급 스쿼트/런지 세트', 'ExList': '{905,909,910,911,912,933,934,20,25,21,28,20,25,21,28,303}', 'MainGoal': '근력강화', 'DetailGoal': '탄탄한 하체', 'Delimiter': '하체', 'Level': 'Normal'}, {'id': 36, 'Name': '고급 스쿼트/런지 세트', 'ExList': '{905,909,910,911,912,933,934,20,25,100,101,102,103,100,101,102,103}', 'MainGoal': '근력강화', 'DetailGoal': '탄탄한 하체', 'Delimiter': '하체', 'Level': 'Hard'}, {'id': 37, 'Name': '하체 강화 첫걸음', 'ExList': '{905,909,910,911,912,933,934,20,22,25,26,29,20,22,25,26,29}', 'MainGoal': '근력강화', 'DetailGoal': '탄탄한 하체', 'Delimiter': '하체', 'Level': 'Easy'}, {'id': 39, 'Name': '상급 하체 강화', 'ExList': '{905,909,910,911,912,933,934,23,28,96,97,100,101,23,28,96,97,100,101,303,303}', 'MainGoal': '근력강화', 'DetailGoal': '탄탄한 하체', 'Delimiter': '하체', 'Level': 'Hard'}, {'id': 40, 'Name': '허벅지 근력 키우기 초급', 'ExList': '{905,909,910,933,934,935,936,20,82,98,99,20,82,98,99,20,82,98,99}', 'MainGoal': '근력향상', 'DetailGoal': '탄탄한 하체', 'Delimiter': '하체 ', 'Level': 'Easy'}, {'id': 41, 'Name': '허벅지 근력 키우기 중급', 'ExList': '{905,909,910,933,934,935,936,20,21,22,36,20,21,22,36,20,21,22,36}', 'MainGoal': '근력향상', 'DetailGoal': '탄탄한 하체', 'Delimiter': '하체 ', 'Level': 'Normal'}, {'id': 42, 'Name': '허벅지 근력 키우기 상급', 'ExList': '{905,909,910,933,934,935,936,21,22,23,25,100,101,21,22,23,25,100,101,21,22,23,25,100,101}', 'MainGoal': '근력향상', 'DetailGoal': '탄탄한 하체', 'Delimiter': '하체 ', 'Level': 'Hard'}, {'id': 43, 'Name': '애플힙 만들기 초급', 'ExList': '{905,909,910,911,912,25,28,35,98,99,25,28,35,98,99}', 'MainGoal': '근력강화', 'DetailGoal': '힙업 및 애플힙', 'Delimiter': '엉덩이', 'Level': 'Easy'}, {'id': 44, 'Name': '애플힙 만들기 중급', 'ExList': '{905,909,910,911,912,25,26,20,98,99,25,26,20,98,99,25,26,20,98,99}', 'MainGoal': '근력강화', 'DetailGoal': '힙업 및 애플힙', 'Delimiter': '엉덩이', 'Level': 'Normal'}, {'id': 45, 'Name': '애플힙 만들기 상급', 'ExList': '{905,909,910,911,912,25,39,26,98,99,303,25,39,26,98,99,303,25,39,26,98,99,303}', 'MainGoal': '근력강화', 'DetailGoal': '힙업 및 애플힙', 'Delimiter': '엉덩이', 'Level': 'Hard'}, {'id': 46, 'Name': '멋진 하체 만들기 초급', 'ExList': '{905,909,910,911,912,25,20,82,25,20,82,25,20,82}', 'MainGoal': '근력강화', 'DetailGoal': '힙업 및 애플힙', 'Delimiter': '엉덩이', 'Level': 'Easy'}, {'id': 47, 'Name': '멋진 하체 만들기 중급', 'ExList': '{905,909,910,911,912,20,22,23,28,50,20,22,23,28,50}', 'MainGoal': '근력강화', 'DetailGoal': '힙업 및 애플힙', 'Delimiter': '엉덩이', 'Level': 'Normal'}, {'id': 48, 'Name': '멋진 하체 만들기 상급', 'ExList': '{905,909,910,911,912,303,28,26,102,103,28,26,102,103,28,26,102,103,303}', 'MainGoal': '근력강화', 'DetailGoal': '힙업 및 애플힙', 'Delimiter': '엉덩이', 'Level': 'Hard'}, {'id': 49, 'Name': '힙업 프로젝트 초급', 'ExList': '{905,931,932,909,910,25,98,99,29,25,98,99,29,25,98,99,29,303}', 'MainGoal': '근력향상', 'DetailGoal': '힙업 및 애플힙', 'Delimiter': '엉덩이', 'Level': 'Easy'}, {'id': 50, 'Name': '힙업 프로젝트 중급', 'ExList': '{905,931,932,909,910,25,40,35,28,98,99,25,40,35,28,98,9925,40,35,28,98,99,303}', 'MainGoal': '근력향상', 'DetailGoal': '힙업 및 애플힙', 'Delimiter': '엉덩이', 'Level': 'Normal'}, {'id': 51, 'Name': '힙업 프로젝트 상급', 'ExList': '{905,931,932,909,910,20,25,100,101,102,103,21,303,20,25,100,101,102,103,21,303,20,25,100,101,102,103,21,303}', 'MainGoal': '근력향상', 'DetailGoal': '힙업 및 애플힙', 'Delimiter': '엉덩이', 'Level': 'Hard'}, {'id': 52, 'Name': '스쿼트/푸쉬업 입문하기', 'ExList': '{935,936,909,910,903,907,908,2,25,8,28,17,27,2,25,8,28,17,27}', 'MainGoal': '근력강화', 'DetailGoal': '균형 잡힌 라인', 'Delimiter': '전신', 'Level': 'Easy'}, {'id': 53, 'Name': '중급 스쿼트/푸쉬업 세트', 'ExList': '{935,936,909,910,903,907,908,1,25,16,26,4,26,1,25,16,26,4,26}', 'MainGoal': '근력강화', 'DetailGoal': '균형 잡힌 라인', 'Delimiter': '전신', 'Level': 'Normal'}, {'id': 54, 'Name': '고급 스쿼트/푸쉬업 세트', 'ExList': '{935,936,909,910,903,907,908,1,25,3,28,6,27,1,25,3,28,6,27,4,303}', 'MainGoal': '근력강화', 'DetailGoal': '균형 잡힌 라인', 'Delimiter': '전신', 'Level': 'Hard'}, {'id': 55, 'Name': '전신 근력 향상 초급', 'ExList': '{909,910,931,932,903,907,908,1,51,49,44,14,25,1,51,49,44,14,25}', 'MainGoal': '근력강화', 'DetailGoal': '균형 잡힌 라인', 'Delimiter': '전신', 'Level': 'Easy'}, {'id': 57, 'Name': '전신 근력 향상 상급', 'ExList': '{909,910,931,932,903,907,908,5,6,59,25,100,101,5,6,59,25,100,101}', 'MainGoal': '근력강화', 'DetailGoal': '균형 잡힌 라인', 'Delimiter': '전신', 'Level': 'Hard'}, {'id': 58, 'Name': '상체근력 및 체력강화 초급', 'ExList': '{901,909,910,65,41,42,51,65,41,42,51}', 'MainGoal': '체력향상', 'DetailGoal': '균형 잡힌 라인', 'Delimiter': '상체 근력 및 유산소', 'Level': 'Easy'}, {'id': 60, 'Name': '상체근력 및 체력강화 상급', 'ExList': '{901,909,910,45,42,302,45,42,302,45,42,302}', 'MainGoal': '체력향상', 'DetailGoal': '균형 잡힌 라인', 'Delimiter': '상체 근력 및 유산소', 'Level': 'Hard'}, {'id': 61, 'Name': '가슴 및 체력 키우기 초급', 'ExList': '{903,904,905,909,910,27,42,65,71,8,18,17,27,42,65,71}', 'MainGoal': '체력향상', 'DetailGoal': '균형 잡힌 라인', 'Delimiter': '상체 근력 및 유산소', 'Level': 'Easy'}, {'id': 62, 'Name': '가슴 및 체력 키우기 중급', 'ExList': '{903,904,905,909,910,45,64,71,48,1,4,12,16,45,64,71,48}', 'MainGoal': '체력향상', 'DetailGoal': '균형 잡힌 라인', 'Delimiter': '상체 근력 및 유산소', 'Level': 'Normal'}, {'id': 63, 'Name': '가슴 및 체력 키우기 상급', 'ExList': '{903,904,905,909,910,64,45,42,68,1,4,16,15,64,45,42,68}', 'MainGoal': '체력향상', 'DetailGoal': '균형 잡힌 라인', 'Delimiter': '상체 근력 및 유산소', 'Level': 'Hard'}, {'id': 64, 'Name': '힙업과 군살 제거 초급', 'ExList': '{905,931,932,909,910,25,45,98,99,42,65,29,25,45,98,99,42,65,29,25,45,98,99,42,65,29}', 'MainGoal': '체력향상', 'DetailGoal': '균형 잡힌 라인', 'Delimiter': '하체 근력 및 유산소', 'Level': 'Easy'}, {'id': 66, 'Name': '힙업과 군살 제거 상급', 'ExList': '{905,931,932,909,910,20,71,25,24,100,101,45,102,103,40,20,71,25,24,100,101,45,102,103,40,20,71,25,24,100,101,45,102,103,40}', 'MainGoal': '체력향상', 'DetailGoal': '균형 잡힌 라인', 'Delimiter': '하체 근력 및 유산소', 'Level': 'Hard'}, {'id': 67, 'Name': '하체 근력 및 체력 향상 초급', 'ExList': '{905,909,910,933,934,935,936,20,82,98,99,20,82,98,99,42,45,64,47,42,45,64,47}', 'MainGoal': '체력향상', 'DetailGoal': '균형 잡힌 라인', 'Delimiter': '하체 근력 및 유산소', 'Level': 'Easy'}, {'id': 68, 'Name': '하체 근력 및 체력 향상 중급', 'ExList': '{905,909,910,933,934,935,936,20,21,22,36,20,21,22,36,42,45,64,47,42,45,64,47}', 'MainGoal': '체력향상', 'DetailGoal': '균형 잡힌 라인', 'Delimiter': '하체 근력 및 유산소', 'Level': 'Normal'}, {'id': 69, 'Name': '하체 근력 및 체력 향상 상급', 'ExList': '{905,909,910,933,934,935,936,21,22,23,25,100,101,21,22,23,25,100,101,42,45,64,47,42,45,64,47}', 'MainGoal': '체력향상', 'DetailGoal': '균형 잡힌 라인', 'Delimiter': '하체 근력 및 유산소', 'Level': 'Hard'}, {'id': 71, 'Name': '전신 체력향상 중급', 'ExList': '{903,904,905,939,940,14,27,47,65,71,42,68,14,27,47,65,71,42,68,14,27,47,65,71,42,68}', 'MainGoal': '체력향상', 'DetailGoal': '균형 잡힌 라인', 'Delimiter': '전신', 'Level': 'Normal'}, {'id': 72, 'Name': '전신 체력향상 상급', 'ExList': '{903,904,905,939,940,14,27,42,68,24,45,38,14,27,42,68,24,45,38,14,27,42,68,24,45,38}', 'MainGoal': '체력향상', 'DetailGoal': '균형 잡힌 라인', 'Delimiter': '전신', 'Level': 'Hard'}, {'id': 73, 'Name': '심폐지구력 향상 초급', 'ExList': '{903,904,905,939,940,64,27,60,30,45,42,64,27,60,30,45,42}', 'MainGoal': '다이어트', 'DetailGoal': '심페지구력 향상', 'Delimiter': '유산소', 'Level': 'Easy'}, {'id': 74, 'Name': '심폐지구력 향상 중급', 'ExList': '{903,904,905,939,940,64,27,60,30,45,42,94,95,44,64,27,60,30,45,42,94,95,44}', 'MainGoal': '다이어트', 'DetailGoal': '심페지구력 향상', 'Delimiter': '유산소', 'Level': 'Normal'}, {'id': 75, 'Name': '심폐지구력 향상 상급', 'ExList': '{903,904,905,939,940,64,27,60,30,45,42,94,95,44,64,27,60,30,45,42,94,95,44,64,27,60,30,45,42,94,95,44}', 'MainGoal': '다이어트', 'DetailGoal': '심페지구력 향상', 'Delimiter': '유산소', 'Level': 'Hard'}, {'id': 84, 'Name': '다이어트를 쉽고 재밌게! 상급', 'ExList': '{901,906,905,904,27,38,42,45,30,87,96,97,27,38,42,45,30,87,96,97,27,38,42,45,30,87,96,97}', 'MainGoal': '다이어트', 'DetailGoal': '군살 제거', 'Delimiter': '전신', 'Level': 'Hard'}, {'id': 83, 'Name': '다이어트를 쉽고 재밌게! 중급', 'ExList': '{901,906,905,904,27,38,42,45,30,27,38,42,45,30,27,38,42,45,30}', 'MainGoal': '다이어트', 'DetailGoal': '군살 제거', 'Delimiter': '전신', 'Level': 'Normal'}, {'id': 82, 'Name': '다이어트를 쉽고 재밌게! 초급', 'ExList': '{901,906,905,904,38,40,43,85,71,75,38,40,43,85,71,75,38,40,43,85,71,75}', 'MainGoal': '다이어트', 'DetailGoal': '군살 제거', 'Delimiter': '전신', 'Level': 'Easy'}, {'id': 80, 'Name': '건강한 몸매 만들기 중급', 'ExList': '{901,906,905,904,302,304,305,55,43,42,27,302,304,305,55,43,42,27}', 'MainGoal': '다이어트', 'DetailGoal': '군살 제거', 'Delimiter': '전신', 'Level': 'Normal'}, {'id': 79, 'Name': '건강한 몸매 만들기 초급', 'ExList': '{901,906,905,904,302,55,38,28,302,55,38,28,302,55,38,28}', 'MainGoal': '다이어트', 'DetailGoal': '군살 제거', 'Delimiter': '전신', 'Level': 'Easy'}, {'id': 78, 'Name': '나의 체력 키우기 상급', 'ExList': '{915,916,902,903,904,905,44,94,95,42,45,30,60,27,64,44,94,95,42,45,30,60,27,64,44,94,95,42,45,30,60,27,64}', 'MainGoal': '다이어트', 'DetailGoal': '심페지구력 향상', 'Delimiter': '유산소', 'Level': 'Hard'}, {'id': 77, 'Name': '나의 체력 키우기 중급', 'ExList': '{915,916,902,903,904,905,44,94,95,42,45,30,60,27,64,44,94,95,42,45,30,60,27,64}', 'MainGoal': '다이어트', 'DetailGoal': '심페지구력 향상', 'Delimiter': '유산소', 'Level': 'Normal'}, {'id': 76, 'Name': '나의 체력 키우기 초급', 'ExList': '{915,916,902,903,904,905,42,45,30,60,27,64,42,45,30,60,27,64}', 'MainGoal': '다이어트', 'DetailGoal': '심페지구력 향상', 'Delimiter': '유산소', 'Level': 'Easy'}, {'id': 89, 'Name': '멋있는 복근 만들기 중급', 'ExList': '{901,929,930,904,14,49,46,51,47,44,14,49,46,51,47,44,302}', 'MainGoal': '체력향상', 'DetailGoal': '선명한 복근', 'Delimiter': '복근', 'Level': 'Normal'}, {'id': 90, 'Name': '멋있는 복근 만들기 상급', 'ExList': '{901,929,930,904,302,306,307,49,62,42,302,306,307,49,62,42,302,306,307,49,62,42}', 'MainGoal': '체력향상', 'DetailGoal': '선명한 복근', 'Delimiter': '복근', 'Level': 'Hard'}, {'id': 91, 'Name': '균형 있는 몸 만들기 초급', 'ExList': '{915,916,902,903,904,905,2,48,25,64,20,74,2,48,25,64,20,74,2,48,25,64,20,74}', 'MainGoal': '체력향상', 'DetailGoal': '심페지구력 향상', 'Delimiter': '유산소', 'Level': 'Easy'}, {'id': 93, 'Name': '균형 있는 몸 만들기 상급', 'ExList': '{915,916,902,903,904,905,3,45,67,30,61,42,3,45,67,30,61,42,3,45,67,30,61,42,303}', 'MainGoal': '체력향상', 'DetailGoal': '심페지구력 향상', 'Delimiter': '유산소', 'Level': 'Hard'}, {'id': 94, 'Name': '등 근육 만들기 초급', 'ExList': '{901,906,907,908,17,88,67,52,17,88,67,52,17,88,67,52}', 'MainGoal': '근력강화', 'DetailGoal': '등', 'Delimiter': '등', 'Level': 'Easy'}, {'id': 95, 'Name': '등 근육 만들기 중급', 'ExList': '{901,906,907,908,88,67,58,52,53,88,67,58,52,53}', 'MainGoal': '근력강화', 'DetailGoal': '등', 'Delimiter': '등', 'Level': 'Normal'}, {'id': 96, 'Name': '등 근육 만들기 상급', 'ExList': '{901,906,907,908,88,67,58,52,53,88,67,58,52,53,88,67,58,52,53}', 'MainGoal': '근력강화', 'DetailGoal': '등', 'Delimiter': '등', 'Level': 'Hard'}, {'id': 97, 'Name': '근력과 유산소를 동시에! 초급', 'ExList': '{915,916,902,903,904,905,2,58,49,25,20,64,42,2,58,49,25,20,64,42}', 'MainGoal': '다이어트', 'DetailGoal': '심페지구력 향상', 'Delimiter': '전신 ', 'Level': 'Easy'}, {'id': 87, 'Name': '강력한 코어 만들기 상급', 'ExList': '{901,929,930,904,302,304,305,306,307,301,62,49,302}', 'MainGoal': '체력향상', 'DetailGoal': '코어 강화', 'Delimiter': '복근', 'Level': 'Hard'}, {'id': 98, 'Name': '근력과 유산소를 동시에! 중급', 'ExList': '{915,916,902,903,904,905,1,52,49,28,98,99,1,52,49,28,98,99}', 'MainGoal': '다이어트', 'DetailGoal': '심페지구력 향상', 'Delimiter': '전신', 'Level': 'Normal'}, {'id': 99, 'Name': '근력과 유산소를 동시에! 상급', 'ExList': '{915,916,902,903,904,905,1,27,28,52,67,62,66,3,45,42,59,302}', 'MainGoal': '다이어트', 'DetailGoal': '심페지구력 향상', 'Delimiter': '전신', 'Level': 'Hard'}, {'id': 20, 'Name': '두꺼운 프레임 만들기 중급', 'ExList': '{904,907,908,904,1,52,4,58,1,52,4,58,1,52,4,58}', 'MainGoal': '근력강화', 'DetailGoal': '탄탄한 상체', 'Delimiter': '상체', 'Level': 'Normal'}, {'id': 38, 'Name': '중급 하체 강화', 'ExList': '{905,909,910,911,912,933,934,25,26,27,20,28,25,26,27,20,28,303}', 'MainGoal': '근력강화', 'DetailGoal': '탄탄한 하체', 'Delimiter': '하체', 'Level': 'Normal'}, {'id': 56, 'Name': '전신 근력 향상 중급', 'ExList': '{909,910,931,932,903,907,908,25,42,14,52,1,25,42,14,52,1,25,42,14,52,1}', 'MainGoal': '근력강화', 'DetailGoal': '균형 잡힌 라인', 'Delimiter': '전신', 'Level': 'Normal'}, {'id': 70, 'Name': '전신 체력향상 초급', 'ExList': '{903,904,905,939,940,14,13,27,47,65,71,14,13,27,47,65,71,14,13,27,47,65,71}', 'MainGoal': '체력향상', 'DetailGoal': '균형 잡힌 라인', 'Delimiter': '전신', 'Level': 'Easy'}, {'id': 88, 'Name': '멋있는 복근 만들기 초급', 'ExList': '{901,929,930,904,47,48,74,51,42,49,46,302}', 'MainGoal': '체력향상', 'DetailGoal': '선명한 복근', 'Delimiter': '복근', 'Level': 'Easy'}, {'id': 92, 'Name': '균형 있는 몸 만들기 중급', 'ExList': '{915,916,902,903,904,905,1,27,49,40,61,302,58,85,1,27,49,40,61,302,58,85}', 'MainGoal': '체력향상', 'DetailGoal': '심페지구력 향상', 'Delimiter': '유산소', 'Level': 'Normal'}]\n"
     ]
    }
   ],
   "source": [
    "# ExList 값을 PostgreSQL 배열 형식에 맞게 중괄호로 변환\n",
    "for record in new_dict:\n",
    "    if 'ExList' in record:\n",
    "        record['ExList'] = record['ExList'].replace('[', '{').replace(']', '}').strip()\n",
    "\n",
    "print(new_dict)"
   ],
   "metadata": {
    "collapsed": false,
    "ExecuteTime": {
     "end_time": "2024-08-13T02:09:50.852852Z",
     "start_time": "2024-08-13T02:09:50.850308Z"
    }
   },
   "id": "3869b3d9eb2bd001",
   "execution_count": 16
  },
  {
   "cell_type": "markdown",
   "source": [
    "4. new_dict에서 하나씩 레코드를 가져와서 테이블에 업데이트"
   ],
   "metadata": {
    "collapsed": false
   },
   "id": "3fc39b60fb846551"
  },
  {
   "cell_type": "code",
   "outputs": [
    {
     "name": "stdout",
     "output_type": "stream",
     "text": [
      "Update response for id 86\n",
      "Update response for id 10\n",
      "Update response for id 59\n",
      "Update response for id 65\n",
      "Update response for id 85\n",
      "Update response for id 81\n",
      "Update response for id 11\n",
      "Update response for id 12\n",
      "Update response for id 13\n",
      "Update response for id 1\n",
      "Update response for id 2\n",
      "Update response for id 3\n",
      "Update response for id 4\n",
      "Update response for id 5\n",
      "Update response for id 6\n",
      "Update response for id 7\n",
      "Update response for id 8\n",
      "Update response for id 9\n",
      "Update response for id 14\n",
      "Update response for id 15\n",
      "Update response for id 16\n",
      "Update response for id 17\n",
      "Update response for id 18\n",
      "Update response for id 19\n",
      "Update response for id 21\n",
      "Update response for id 22\n",
      "Update response for id 23\n",
      "Update response for id 24\n",
      "Update response for id 25\n",
      "Update response for id 26\n",
      "Update response for id 27\n",
      "Update response for id 28\n",
      "Update response for id 29\n",
      "Update response for id 30\n",
      "Update response for id 31\n",
      "Update response for id 32\n",
      "Update response for id 33\n",
      "Update response for id 34\n",
      "Update response for id 35\n",
      "Update response for id 36\n",
      "Update response for id 37\n",
      "Update response for id 39\n",
      "Update response for id 40\n",
      "Update response for id 41\n",
      "Update response for id 42\n",
      "Update response for id 43\n",
      "Update response for id 44\n",
      "Update response for id 45\n",
      "Update response for id 46\n",
      "Update response for id 47\n",
      "Update response for id 48\n",
      "Update response for id 49\n",
      "Update response for id 50\n",
      "Update response for id 51\n",
      "Update response for id 52\n",
      "Update response for id 53\n",
      "Update response for id 54\n",
      "Update response for id 55\n",
      "Update response for id 57\n",
      "Update response for id 58\n",
      "Update response for id 60\n",
      "Update response for id 61\n",
      "Update response for id 62\n",
      "Update response for id 63\n",
      "Update response for id 64\n",
      "Update response for id 66\n",
      "Update response for id 67\n",
      "Update response for id 68\n",
      "Update response for id 69\n",
      "Update response for id 71\n",
      "Update response for id 72\n",
      "Update response for id 73\n",
      "Update response for id 74\n",
      "Update response for id 75\n",
      "Update response for id 84\n",
      "Update response for id 83\n",
      "Update response for id 82\n",
      "Update response for id 80\n",
      "Update response for id 79\n",
      "Update response for id 78\n",
      "Update response for id 77\n",
      "Update response for id 76\n",
      "Update response for id 89\n",
      "Update response for id 90\n",
      "Update response for id 91\n",
      "Update response for id 93\n",
      "Update response for id 94\n",
      "Update response for id 95\n",
      "Update response for id 96\n",
      "Update response for id 97\n",
      "Update response for id 87\n",
      "Update response for id 98\n",
      "Update response for id 99\n",
      "Update response for id 20\n",
      "Update response for id 38\n",
      "Update response for id 56\n",
      "Update response for id 70\n",
      "Update response for id 88\n",
      "Update response for id 92\n"
     ]
    }
   ],
   "source": [
    "# Supabase Exercise 테이블에 update\n",
    "for record in new_dict:\n",
    "    # print(record)\n",
    "    response_update = supabase.table(table_name).update(record).eq('id', record['id']).execute()\n",
    "    # print(f\"Update response for id {record['id']}:\", response_update)\n",
    "    print(f\"Update response for id {record['id']}\")"
   ],
   "metadata": {
    "collapsed": false,
    "ExecuteTime": {
     "end_time": "2024-08-13T02:10:02.121919Z",
     "start_time": "2024-08-13T02:09:55.268629Z"
    }
   },
   "id": "8b07f638a941c960",
   "execution_count": 17
  }
 ],
 "metadata": {
  "kernelspec": {
   "display_name": "Python 3",
   "language": "python",
   "name": "python3"
  },
  "language_info": {
   "codemirror_mode": {
    "name": "ipython",
    "version": 2
   },
   "file_extension": ".py",
   "mimetype": "text/x-python",
   "name": "python",
   "nbconvert_exporter": "python",
   "pygments_lexer": "ipython2",
   "version": "2.7.6"
  }
 },
 "nbformat": 4,
 "nbformat_minor": 5
}
