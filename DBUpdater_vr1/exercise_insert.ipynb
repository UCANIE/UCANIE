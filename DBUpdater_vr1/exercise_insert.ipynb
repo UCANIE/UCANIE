{
 "cells": [
  {
   "cell_type": "code",
   "outputs": [],
   "source": [
    "#pip install supabase"
   ],
   "metadata": {
    "collapsed": false
   },
   "id": "102a80eb04e436d6"
  },
  {
   "cell_type": "code",
   "outputs": [],
   "source": [
    "#pip install pandas"
   ],
   "metadata": {
    "collapsed": false
   },
   "id": "f9e119cba171e168"
  },
  {
   "cell_type": "code",
   "outputs": [],
   "source": [
    "#pip install python-dotenv"
   ],
   "metadata": {
    "collapsed": false
   },
   "id": "1a991b304ff494cf"
  },
  {
   "cell_type": "markdown",
   "source": [
    "1. Supabase 셋업"
   ],
   "metadata": {
    "collapsed": false
   },
   "id": "b01b7616cf74d14a"
  },
  {
   "cell_type": "code",
   "outputs": [],
   "source": [
    "import os\n",
    "import dotenv\n",
    "import pandas as pd\n",
    "from supabase import create_client, Client\n",
    "import json\n",
    "import ast\n",
    "\n",
    "dotenv_file = dotenv.find_dotenv()\n",
    "dotenv.load_dotenv(dotenv_file)\n",
    "\n",
    "url: str = os.environ[\"SUPABASE_URL\"]\n",
    "key: str = os.environ[\"SUPABASE_KEY\"]\n",
    "supabase: Client = create_client(url, key)"
   ],
   "metadata": {
    "collapsed": false,
    "ExecuteTime": {
     "end_time": "2024-05-31T00:54:44.615831Z",
     "start_time": "2024-05-31T00:54:43.337169Z"
    }
   },
   "id": "1cdd6ed28b47a533",
   "execution_count": 1
  },
  {
   "cell_type": "markdown",
   "source": [
    "2. 파일명과 테이블명 입력 및 데이터프레임 셋업"
   ],
   "metadata": {
    "collapsed": false
   },
   "id": "3152e4462ee0e364"
  },
  {
   "cell_type": "code",
   "outputs": [
    {
     "name": "stdout",
     "output_type": "stream",
     "text": [
      "(208, 22)\n",
      "(149, 22)\n"
     ]
    },
    {
     "data": {
      "text/plain": "   id      Name                                        Description Level  \\\n0   5   Push-Up              A classic push-up exercise for chest.    보통   \n1   4  코브라 스트레칭  엎드려 누운 상태에서 두 손을 어깨 밑에 놓고 팔꿈치를 굽힙니다. 그리고 가슴을 바...    입문   \n2   6     Squat                            A basic squat exercise.    쉬움   \n3   7     Plank      Hold a plank position to strengthen the core.   어려움   \n4  10    Crunch                      A classic abdominal exercise.    보통   \n\n   BeginnerTime  BeginnerCount         TargetMuscle  \\\n0            30             15     [Chest, Triceps]   \n1            30              1   [복직근, 상완삼두근, 완요골근]   \n2            30             20  [Quads, Hamstrings]   \n3            30              1      [복직근, 복사근, 비복근]   \n4            30             15                [복직근]   \n\n                                       AnimationFile  \\\n0  https://nherivcnanphkalgybji.supabase.co/stora...   \n1  https://nherivcnanphkalgybji.supabase.co/stora...   \n2  https://nherivcnanphkalgybji.supabase.co/stora...   \n3  https://nherivcnanphkalgybji.supabase.co/stora...   \n4  https://nherivcnanphkalgybji.supabase.co/stora...   \n\n                     ClipSource  \\\n0  https://youtu.be/fBh97ozxNGw   \n1  https://youtu.be/YyjQ_-e7nu8   \n2  https://youtu.be/fBh97ozxNGw   \n3  https://youtu.be/fBh97ozxNGw   \n4  https://youtu.be/fBh97ozxNGw   \n\n                                           ImageFile  ...  Type BasicCount  \\\n0  https://nherivcnanphkalgybji.supabase.co/stora...  ...    둘다         15   \n1  https://nherivcnanphkalgybji.supabase.co/stora...  ...    둘다         15   \n2  https://nherivcnanphkalgybji.supabase.co/stora...  ...    하체         15   \n3  https://nherivcnanphkalgybji.supabase.co/stora...  ...    둘다         15   \n4  https://nherivcnanphkalgybji.supabase.co/stora...  ...    상체         15   \n\n  IntermediateCount  AdvancedCount  UpperCalibration  TargetDevice  \\\n0                15             15               NaN          None   \n1                15             15               NaN        [1, 2]   \n2                15             15               NaN          None   \n3                15             15               NaN          None   \n4                15             15               NaN          None   \n\n   LowerCalibration exCategory  Multiply Side  \n0               NaN          1       NaN  NaN  \n1               NaN          1       NaN  NaN  \n2               NaN          1       NaN  NaN  \n3               NaN          1       NaN  NaN  \n4               NaN          1       NaN  NaN  \n\n[5 rows x 22 columns]",
      "text/html": "<div>\n<style scoped>\n    .dataframe tbody tr th:only-of-type {\n        vertical-align: middle;\n    }\n\n    .dataframe tbody tr th {\n        vertical-align: top;\n    }\n\n    .dataframe thead th {\n        text-align: right;\n    }\n</style>\n<table border=\"1\" class=\"dataframe\">\n  <thead>\n    <tr style=\"text-align: right;\">\n      <th></th>\n      <th>id</th>\n      <th>Name</th>\n      <th>Description</th>\n      <th>Level</th>\n      <th>BeginnerTime</th>\n      <th>BeginnerCount</th>\n      <th>TargetMuscle</th>\n      <th>AnimationFile</th>\n      <th>ClipSource</th>\n      <th>ImageFile</th>\n      <th>...</th>\n      <th>Type</th>\n      <th>BasicCount</th>\n      <th>IntermediateCount</th>\n      <th>AdvancedCount</th>\n      <th>UpperCalibration</th>\n      <th>TargetDevice</th>\n      <th>LowerCalibration</th>\n      <th>exCategory</th>\n      <th>Multiply</th>\n      <th>Side</th>\n    </tr>\n  </thead>\n  <tbody>\n    <tr>\n      <th>0</th>\n      <td>5</td>\n      <td>Push-Up</td>\n      <td>A classic push-up exercise for chest.</td>\n      <td>보통</td>\n      <td>30</td>\n      <td>15</td>\n      <td>[Chest, Triceps]</td>\n      <td>https://nherivcnanphkalgybji.supabase.co/stora...</td>\n      <td>https://youtu.be/fBh97ozxNGw</td>\n      <td>https://nherivcnanphkalgybji.supabase.co/stora...</td>\n      <td>...</td>\n      <td>둘다</td>\n      <td>15</td>\n      <td>15</td>\n      <td>15</td>\n      <td>NaN</td>\n      <td>None</td>\n      <td>NaN</td>\n      <td>1</td>\n      <td>NaN</td>\n      <td>NaN</td>\n    </tr>\n    <tr>\n      <th>1</th>\n      <td>4</td>\n      <td>코브라 스트레칭</td>\n      <td>엎드려 누운 상태에서 두 손을 어깨 밑에 놓고 팔꿈치를 굽힙니다. 그리고 가슴을 바...</td>\n      <td>입문</td>\n      <td>30</td>\n      <td>1</td>\n      <td>[복직근, 상완삼두근, 완요골근]</td>\n      <td>https://nherivcnanphkalgybji.supabase.co/stora...</td>\n      <td>https://youtu.be/YyjQ_-e7nu8</td>\n      <td>https://nherivcnanphkalgybji.supabase.co/stora...</td>\n      <td>...</td>\n      <td>둘다</td>\n      <td>15</td>\n      <td>15</td>\n      <td>15</td>\n      <td>NaN</td>\n      <td>[1, 2]</td>\n      <td>NaN</td>\n      <td>1</td>\n      <td>NaN</td>\n      <td>NaN</td>\n    </tr>\n    <tr>\n      <th>2</th>\n      <td>6</td>\n      <td>Squat</td>\n      <td>A basic squat exercise.</td>\n      <td>쉬움</td>\n      <td>30</td>\n      <td>20</td>\n      <td>[Quads, Hamstrings]</td>\n      <td>https://nherivcnanphkalgybji.supabase.co/stora...</td>\n      <td>https://youtu.be/fBh97ozxNGw</td>\n      <td>https://nherivcnanphkalgybji.supabase.co/stora...</td>\n      <td>...</td>\n      <td>하체</td>\n      <td>15</td>\n      <td>15</td>\n      <td>15</td>\n      <td>NaN</td>\n      <td>None</td>\n      <td>NaN</td>\n      <td>1</td>\n      <td>NaN</td>\n      <td>NaN</td>\n    </tr>\n    <tr>\n      <th>3</th>\n      <td>7</td>\n      <td>Plank</td>\n      <td>Hold a plank position to strengthen the core.</td>\n      <td>어려움</td>\n      <td>30</td>\n      <td>1</td>\n      <td>[복직근, 복사근, 비복근]</td>\n      <td>https://nherivcnanphkalgybji.supabase.co/stora...</td>\n      <td>https://youtu.be/fBh97ozxNGw</td>\n      <td>https://nherivcnanphkalgybji.supabase.co/stora...</td>\n      <td>...</td>\n      <td>둘다</td>\n      <td>15</td>\n      <td>15</td>\n      <td>15</td>\n      <td>NaN</td>\n      <td>None</td>\n      <td>NaN</td>\n      <td>1</td>\n      <td>NaN</td>\n      <td>NaN</td>\n    </tr>\n    <tr>\n      <th>4</th>\n      <td>10</td>\n      <td>Crunch</td>\n      <td>A classic abdominal exercise.</td>\n      <td>보통</td>\n      <td>30</td>\n      <td>15</td>\n      <td>[복직근]</td>\n      <td>https://nherivcnanphkalgybji.supabase.co/stora...</td>\n      <td>https://youtu.be/fBh97ozxNGw</td>\n      <td>https://nherivcnanphkalgybji.supabase.co/stora...</td>\n      <td>...</td>\n      <td>상체</td>\n      <td>15</td>\n      <td>15</td>\n      <td>15</td>\n      <td>NaN</td>\n      <td>None</td>\n      <td>NaN</td>\n      <td>1</td>\n      <td>NaN</td>\n      <td>NaN</td>\n    </tr>\n  </tbody>\n</table>\n<p>5 rows × 22 columns</p>\n</div>"
     },
     "execution_count": 2,
     "metadata": {},
     "output_type": "execute_result"
    }
   ],
   "source": [
    "data_file = \"Exercise.csv\"\n",
    "table_name = \"Exercise_duplicate\"\n",
    "\n",
    "update_data = pd.read_csv(data_file)\n",
    "response = supabase.table(table_name).select(\"*\").execute()\n",
    "origin_data = pd.DataFrame(response.data)\n",
    "\n",
    "# 데이터 확인\n",
    "print(update_data.shape)\n",
    "print(origin_data.shape)\n",
    "update_data.head()\n",
    "origin_data.head()"
   ],
   "metadata": {
    "collapsed": false,
    "ExecuteTime": {
     "end_time": "2024-05-31T00:54:48.277221Z",
     "start_time": "2024-05-31T00:54:46.823658Z"
    }
   },
   "id": "1bdba257809c310a",
   "execution_count": 2
  },
  {
   "cell_type": "markdown",
   "source": [
    "3. 기존에 없는 새로 추가된 record 추출"
   ],
   "metadata": {
    "collapsed": false
   },
   "id": "1e2e6a108477c31d"
  },
  {
   "cell_type": "code",
   "outputs": [
    {
     "name": "stdout",
     "output_type": "stream",
     "text": [
      "(86, 22)\n",
      "(86, 21)\n",
      "               Name                                        Description Level  \\\n",
      "122       스쿼트 사이드 잽                                                테스트    보통   \n",
      "123        니 허그 크런치  누워서 한 쪽 무릎을 가슴 쪽으로 최대한 당기면서 상체를 살짝 앞으로 숙여 줍니다....    보통   \n",
      "124       풀다운 니업(L)                                                테스트    보통   \n",
      "125      사이드 터치 스쿼트  사이드 스텝으로 옆으로 이동하면서 매 스텝마다 스쿼트 자세를 취하고 두 손가락으로 ...    보통   \n",
      "126        스모 턴 스쿼트  스모 스쿼트 자세에서 시작하여, 스쿼트를 하면서 180도 회전하고 다시 스쿼트를 합...    보통   \n",
      "..              ...                                                ...   ...   \n",
      "203       풀다운 니업(R)                                                테스트    보통   \n",
      "204         딥 런지(R)                                                테스트    쉬움   \n",
      "205    다운 도그 크런치(R)                                                테스트    힘듬   \n",
      "206  사이드 플랭크 크런치(R)                                                테스트    보통   \n",
      "207  스탭 백 니 쓰러스트(R)                                                테스트    힘듬   \n",
      "\n",
      "     BeginnerTime  BeginnerCount             TargetMuscle  AnimationFile  \\\n",
      "122            30             10    [\"대퇴사두근\",\"대흉근\",\"삼두근\"]            0.0   \n",
      "123            30             12          [\"외복사근\",\"내복사근\"]            0.0   \n",
      "124            30             18            [\"복직근\",\"복횡근\"]            0.0   \n",
      "125            30             20          [\"대둔근\",\"대퇴사두근\"]            0.0   \n",
      "126            30             20    [\"대둔근\",\"내전근\",\"대퇴사두근\"]            0.0   \n",
      "..            ...            ...                      ...            ...   \n",
      "203            30             18            [\"복직근\",\"복횡근\"]            0.0   \n",
      "204            30             25  [\"대퇴사두근\",\"비복근\",\"대퇴이두근\"]            0.0   \n",
      "205            30             25    [\"복직근\",\"내복사근\",\"외복사근\"]            0.0   \n",
      "206            30             25           [\"복직근\",\"외복사근\"]            0.0   \n",
      "207            30             20        [\"대퇴사두근\",\"대퇴이두근\"]            0.0   \n",
      "\n",
      "                                      ClipSource  ImageFile  MET  ... Type  \\\n",
      "122                 https://youtu.be/7YLCPyUXwX8        0.0  4.0  ...   하체   \n",
      "123                 https://youtu.be/414dFUG6x-8        0.0  4.0  ...   상체   \n",
      "124                 https://youtu.be/_8lsmLMySek        0.0  4.0  ...   둘다   \n",
      "125                 https://youtu.be/2FILaoNy1lY        0.0  4.5  ...   하체   \n",
      "126                 https://youtu.be/Ok3GFwQUIWI        0.0  4.7  ...   하체   \n",
      "..                                           ...        ...  ...  ...  ...   \n",
      "203                 https://youtu.be/_8lsmLMySek        0.0  4.0  ...   둘다   \n",
      "204                 https://youtu.be/zGkFm6tl6dY        0.0  3.9  ...   하체   \n",
      "205                 https://youtu.be/iXrAESHnVoA        0.0  6.0  ...   상체   \n",
      "206                 https://youtu.be/_UE7wvnyfXo        0.0  8.0  ...   상체   \n",
      "207  https://www.youtube.com/watch?v=CTACbUBPRDI        0.0  6.0  ...   하체   \n",
      "\n",
      "    BasicCount  IntermediateCount  AdvancedCount  UpperCalibration  \\\n",
      "122         10                 30             40               0.0   \n",
      "123         12                 24             48               0.0   \n",
      "124         18                 36             60               0.0   \n",
      "125         20                 40             60               0.0   \n",
      "126         20                 40             60               0.0   \n",
      "..         ...                ...            ...               ...   \n",
      "203         18                 36             60               0.0   \n",
      "204         25                 50             70               0.0   \n",
      "205         25                 45             60               0.0   \n",
      "206         25                 50             65               0.0   \n",
      "207         20                 40             60               0.0   \n",
      "\n",
      "     TargetDevice LowerCalibration  exCategory  Multiply  Side  \n",
      "122         [3,4]              1.0           1         1     0  \n",
      "123         [3,4]              0.0           1         1     0  \n",
      "124           [3]              0.0           1         1     1  \n",
      "125         [3,4]              0.0           1         1     0  \n",
      "126         [3,4]              2.0           1         1     0  \n",
      "..            ...              ...         ...       ...   ...  \n",
      "203           [4]              0.0           1         1     1  \n",
      "204           [4]              4.0           1         1     1  \n",
      "205           [4]              2.0           1         1     1  \n",
      "206           [4]              2.0           1         1     1  \n",
      "207           [4]              1.0           1         1     1  \n",
      "\n",
      "[86 rows x 21 columns]\n"
     ]
    }
   ],
   "source": [
    "# DB에 있는 데이터 중에서 없는 새로운 데이터 찾기\n",
    "new_records =  update_data[~update_data['id'].isin(origin_data['id'])]\n",
    "insert_data = new_records.drop(columns=['id'])\n",
    "\n",
    "# Name, Description, exCategory를 제외한 NaN처리 컬럼 선택\n",
    "non_fill = insert_data.columns.difference(['Name', 'Description', 'exCategory'])\n",
    "insert_data[non_fill] = insert_data[non_fill].fillna(0)\n",
    "\n",
    "# 데이터 확인\n",
    "print(new_records.shape)\n",
    "print(insert_data.shape)\n",
    "print(insert_data)"
   ],
   "metadata": {
    "collapsed": false,
    "ExecuteTime": {
     "end_time": "2024-05-31T00:54:50.302826Z",
     "start_time": "2024-05-31T00:54:50.291514Z"
    }
   },
   "id": "e5cc2c890e3f122e",
   "execution_count": 3
  },
  {
   "cell_type": "markdown",
   "source": [
    "4. 입력 데이터 맞춤"
   ],
   "metadata": {
    "collapsed": false
   },
   "id": "22f98abcd8c3f709"
  },
  {
   "cell_type": "code",
   "outputs": [
    {
     "name": "stdout",
     "output_type": "stream",
     "text": [
      "[\"허벅지\"]\n",
      "0\n",
      "[\"대퇴사두근\",\"대흉근\",\"삼두근\"]\n"
     ]
    }
   ],
   "source": [
    "# Side, UpperCalibration, LowerCalibration 컬럼의 데이터 타입을 int로 변환\n",
    "insert_data['Side'] = insert_data['Side'].astype(int)\n",
    "insert_data['UpperCalibration'] = insert_data['UpperCalibration'].astype(int)\n",
    "insert_data['LowerCalibration'] = insert_data['LowerCalibration'].astype(int)\n",
    "\n",
    "# Supabase insert를 위해 데이터프레임을 딕셔너리 리스트로 변환\n",
    "insert_dict = insert_data.to_dict(orient='records')\n",
    "\n",
    "# 배열 형식으로 변환\n",
    "# for record in insert_dict:\n",
    "#  record['TargetMuscle'] = record['TargetMuscle']\n",
    "#  record['Part'] = record['Part']\n",
    "#  record['TargetDevice'] = record['TargetDevice']\n",
    " \n",
    " # 배열 형식으로 변환\n",
    "for record in insert_dict:\n",
    " record['TargetMuscle'] = json.loads(json.dumps(record['TargetMuscle']))\n",
    " record['Part'] = json.loads(json.dumps(record['Part']))\n",
    " record['TargetDevice'] = json.loads(json.dumps(record['TargetDevice']))\n",
    " \n",
    "print(insert_dict[0]['Part'])\n",
    "print(insert_dict[0]['UpperCalibration'])\n",
    "print(insert_dict[0]['TargetMuscle'])"
   ],
   "metadata": {
    "collapsed": false,
    "ExecuteTime": {
     "end_time": "2024-05-31T00:54:55.547476Z",
     "start_time": "2024-05-31T00:54:55.541309Z"
    }
   },
   "id": "85d655c18d1be0ca",
   "execution_count": 4
  },
  {
   "cell_type": "code",
   "outputs": [
    {
     "data": {
      "text/plain": "{'Name': '스쿼트 사이드 잽',\n 'Description': '테스트',\n 'Level': '보통',\n 'BeginnerTime': 30,\n 'BeginnerCount': 10,\n 'TargetMuscle': '[\"대퇴사두근\",\"대흉근\",\"삼두근\"]',\n 'AnimationFile': 0.0,\n 'ClipSource': 'https://youtu.be/7YLCPyUXwX8',\n 'ImageFile': 0.0,\n 'MET': 4.0,\n 'Part': '[\"허벅지\"]',\n 'Type': '하체',\n 'BasicCount': 10,\n 'IntermediateCount': 30,\n 'AdvancedCount': 40,\n 'UpperCalibration': 0,\n 'TargetDevice': '[3,4]',\n 'LowerCalibration': 1,\n 'exCategory': 1,\n 'Multiply': 1,\n 'Side': 0}"
     },
     "execution_count": 5,
     "metadata": {},
     "output_type": "execute_result"
    }
   ],
   "source": [
    "insert_dict[0]"
   ],
   "metadata": {
    "collapsed": false,
    "ExecuteTime": {
     "end_time": "2024-05-31T00:55:00.906586Z",
     "start_time": "2024-05-31T00:55:00.903002Z"
    }
   },
   "id": "13afd19d8252c5bd",
   "execution_count": 5
  },
  {
   "cell_type": "code",
   "outputs": [],
   "source": [
    "array_columns = ['TargetMuscle', 'Part', 'TargetDevice']\n",
    "# 문자열을 실제 배열로 변환\n",
    "def parse_array(col):\n",
    "    return col.apply(lambda x: ast.literal_eval(x) if isinstance(x, str) else x)\n",
    "\n",
    "for col in array_columns:\n",
    "    if col in insert_data.columns:\n",
    "        insert_data[col] = parse_array(insert_data[col])"
   ],
   "metadata": {
    "collapsed": false,
    "ExecuteTime": {
     "end_time": "2024-05-31T00:55:16.277483Z",
     "start_time": "2024-05-31T00:55:16.272888Z"
    }
   },
   "id": "bafe25d47cc35eb3",
   "execution_count": 6
  },
  {
   "cell_type": "code",
   "outputs": [
    {
     "data": {
      "text/plain": "{'Name': '스쿼트 사이드 잽',\n 'Description': '테스트',\n 'Level': '보통',\n 'BeginnerTime': 30,\n 'BeginnerCount': 10,\n 'TargetMuscle': '[\"대퇴사두근\",\"대흉근\",\"삼두근\"]',\n 'AnimationFile': 0.0,\n 'ClipSource': 'https://youtu.be/7YLCPyUXwX8',\n 'ImageFile': 0.0,\n 'MET': 4.0,\n 'Part': '[\"허벅지\"]',\n 'Type': '하체',\n 'BasicCount': 10,\n 'IntermediateCount': 30,\n 'AdvancedCount': 40,\n 'UpperCalibration': 0,\n 'TargetDevice': '[3,4]',\n 'LowerCalibration': 1,\n 'exCategory': 1,\n 'Multiply': 1,\n 'Side': 0}"
     },
     "execution_count": 7,
     "metadata": {},
     "output_type": "execute_result"
    }
   ],
   "source": [
    "insert_dict[0]"
   ],
   "metadata": {
    "collapsed": false,
    "ExecuteTime": {
     "end_time": "2024-05-31T00:55:20.609002Z",
     "start_time": "2024-05-31T00:55:20.605774Z"
    }
   },
   "id": "fda7a56a51856057",
   "execution_count": 7
  },
  {
   "cell_type": "code",
   "outputs": [
    {
     "ename": "APIError",
     "evalue": "{'code': '22P02', 'details': '\"[\" must introduce explicitly-specified array dimensions.', 'hint': None, 'message': 'malformed array literal: \"[\"대퇴사두근\",\"대흉근\",\"삼두근\"]\"'}",
     "output_type": "error",
     "traceback": [
      "\u001B[0;31m---------------------------------------------------------------------------\u001B[0m",
      "\u001B[0;31mAPIError\u001B[0m                                  Traceback (most recent call last)",
      "Cell \u001B[0;32mIn[8], line 1\u001B[0m\n\u001B[0;32m----> 1\u001B[0m data, count \u001B[38;5;241m=\u001B[39m \u001B[43msupabase\u001B[49m\u001B[38;5;241;43m.\u001B[39;49m\u001B[43mtable\u001B[49m\u001B[43m(\u001B[49m\u001B[43mtable_name\u001B[49m\u001B[43m)\u001B[49m\u001B[38;5;241;43m.\u001B[39;49m\u001B[43mupsert\u001B[49m\u001B[43m(\u001B[49m\u001B[43minsert_dict\u001B[49m\u001B[43m)\u001B[49m\u001B[38;5;241;43m.\u001B[39;49m\u001B[43mexecute\u001B[49m\u001B[43m(\u001B[49m\u001B[43m)\u001B[49m\n\u001B[1;32m      2\u001B[0m \u001B[38;5;28mprint\u001B[39m(count)\n",
      "File \u001B[0;32m~/SynologyDrive/Drive/Projects/DBUpdater/.venv/lib/python3.11/site-packages/postgrest/_sync/request_builder.py:78\u001B[0m, in \u001B[0;36mSyncQueryRequestBuilder.execute\u001B[0;34m(self)\u001B[0m\n\u001B[1;32m     76\u001B[0m         \u001B[38;5;28;01mreturn\u001B[39;00m APIResponse[_ReturnT]\u001B[38;5;241m.\u001B[39mfrom_http_request_response(r)\n\u001B[1;32m     77\u001B[0m     \u001B[38;5;28;01melse\u001B[39;00m:\n\u001B[0;32m---> 78\u001B[0m         \u001B[38;5;28;01mraise\u001B[39;00m APIError(r\u001B[38;5;241m.\u001B[39mjson())\n\u001B[1;32m     79\u001B[0m \u001B[38;5;28;01mexcept\u001B[39;00m ValidationError \u001B[38;5;28;01mas\u001B[39;00m e:\n\u001B[1;32m     80\u001B[0m     \u001B[38;5;28;01mraise\u001B[39;00m APIError(r\u001B[38;5;241m.\u001B[39mjson()) \u001B[38;5;28;01mfrom\u001B[39;00m \u001B[38;5;21;01me\u001B[39;00m\n",
      "\u001B[0;31mAPIError\u001B[0m: {'code': '22P02', 'details': '\"[\" must introduce explicitly-specified array dimensions.', 'hint': None, 'message': 'malformed array literal: \"[\"대퇴사두근\",\"대흉근\",\"삼두근\"]\"'}"
     ]
    }
   ],
   "source": [
    "data, count = supabase.table(table_name).upsert(insert_dict).execute()\n",
    "print(count)"
   ],
   "metadata": {
    "collapsed": false,
    "ExecuteTime": {
     "end_time": "2024-05-31T00:56:52.678257Z",
     "start_time": "2024-05-31T00:56:52.211770Z"
    }
   },
   "id": "fb2e1ea375c19c10",
   "execution_count": 8
  },
  {
   "cell_type": "code",
   "outputs": [
    {
     "ename": "APIError",
     "evalue": "{'code': '22P02', 'details': '\"[\" must introduce explicitly-specified array dimensions.', 'hint': None, 'message': 'malformed array literal: \"[\"대퇴사두근\",\"대흉근\",\"삼두근\"]\"'}",
     "output_type": "error",
     "traceback": [
      "\u001B[0;31m---------------------------------------------------------------------------\u001B[0m",
      "\u001B[0;31mAPIError\u001B[0m                                  Traceback (most recent call last)",
      "Cell \u001B[0;32mIn[32], line 2\u001B[0m\n\u001B[1;32m      1\u001B[0m \u001B[38;5;28;01mfor\u001B[39;00m record \u001B[38;5;129;01min\u001B[39;00m insert_dict:\n\u001B[0;32m----> 2\u001B[0m     insert_response \u001B[38;5;241m=\u001B[39m \u001B[43msupabase\u001B[49m\u001B[38;5;241;43m.\u001B[39;49m\u001B[43mtable\u001B[49m\u001B[43m(\u001B[49m\u001B[43mtable_name\u001B[49m\u001B[43m)\u001B[49m\u001B[38;5;241;43m.\u001B[39;49m\u001B[43minsert\u001B[49m\u001B[43m(\u001B[49m\u001B[43mrecord\u001B[49m\u001B[43m)\u001B[49m\u001B[38;5;241;43m.\u001B[39;49m\u001B[43mexecute\u001B[49m\u001B[43m(\u001B[49m\u001B[43m)\u001B[49m\n\u001B[1;32m      3\u001B[0m     \u001B[38;5;28mprint\u001B[39m(\u001B[38;5;124m\"\u001B[39m\u001B[38;5;124mInsert reponse:\u001B[39m\u001B[38;5;124m\"\u001B[39m, insert_response)\n",
      "File \u001B[0;32m~/SynologyDrive/Drive/Projects/DBUpdater/.venv/lib/python3.11/site-packages/postgrest/_sync/request_builder.py:78\u001B[0m, in \u001B[0;36mSyncQueryRequestBuilder.execute\u001B[0;34m(self)\u001B[0m\n\u001B[1;32m     76\u001B[0m         \u001B[38;5;28;01mreturn\u001B[39;00m APIResponse[_ReturnT]\u001B[38;5;241m.\u001B[39mfrom_http_request_response(r)\n\u001B[1;32m     77\u001B[0m     \u001B[38;5;28;01melse\u001B[39;00m:\n\u001B[0;32m---> 78\u001B[0m         \u001B[38;5;28;01mraise\u001B[39;00m APIError(r\u001B[38;5;241m.\u001B[39mjson())\n\u001B[1;32m     79\u001B[0m \u001B[38;5;28;01mexcept\u001B[39;00m ValidationError \u001B[38;5;28;01mas\u001B[39;00m e:\n\u001B[1;32m     80\u001B[0m     \u001B[38;5;28;01mraise\u001B[39;00m APIError(r\u001B[38;5;241m.\u001B[39mjson()) \u001B[38;5;28;01mfrom\u001B[39;00m \u001B[38;5;21;01me\u001B[39;00m\n",
      "\u001B[0;31mAPIError\u001B[0m: {'code': '22P02', 'details': '\"[\" must introduce explicitly-specified array dimensions.', 'hint': None, 'message': 'malformed array literal: \"[\"대퇴사두근\",\"대흉근\",\"삼두근\"]\"'}"
     ]
    }
   ],
   "source": [
    "for record in insert_dict:\n",
    "    insert_response = supabase.table(table_name).insert(record).execute()\n",
    "    print(\"Insert reponse:\", insert_response)\n"
   ],
   "metadata": {
    "collapsed": false,
    "ExecuteTime": {
     "end_time": "2024-05-30T08:51:19.041012Z",
     "start_time": "2024-05-30T08:51:18.930389Z"
    }
   },
   "id": "d88d98dc36c2533",
   "execution_count": 32
  }
 ],
 "metadata": {
  "kernelspec": {
   "display_name": "Python 3",
   "language": "python",
   "name": "python3"
  },
  "language_info": {
   "codemirror_mode": {
    "name": "ipython",
    "version": 2
   },
   "file_extension": ".py",
   "mimetype": "text/x-python",
   "name": "python",
   "nbconvert_exporter": "python",
   "pygments_lexer": "ipython2",
   "version": "2.7.6"
  }
 },
 "nbformat": 4,
 "nbformat_minor": 5
}
